{
  "nbformat": 4,
  "nbformat_minor": 0,
  "metadata": {
    "colab": {
      "provenance": []
    },
    "kernelspec": {
      "name": "python3",
      "display_name": "Python 3"
    },
    "language_info": {
      "name": "python"
    }
  },
  "cells": [
    {
      "cell_type": "markdown",
      "source": [
        "\n",
        "<h1><center>EE769-ASSIGNMENT-1</center></h1>\n",
        "<h2><center>Badal Varshney, 19D070015</center></h2>"
      ],
      "metadata": {
        "id": "T7JNz_52Lvtz"
      }
    },
    {
      "cell_type": "code",
      "source": [
        "from google.colab import drive\n",
        "drive.mount('/content/drive')"
      ],
      "metadata": {
        "colab": {
          "base_uri": "https://localhost:8080/"
        },
        "id": "m5cLgq7eMNYL",
        "outputId": "3c70255e-ffb2-4390-b0af-6d61f34a2ec4"
      },
      "execution_count": 1,
      "outputs": [
        {
          "output_type": "stream",
          "name": "stdout",
          "text": [
            "Drive already mounted at /content/drive; to attempt to forcibly remount, call drive.mount(\"/content/drive\", force_remount=True).\n"
          ]
        }
      ]
    },
    {
      "cell_type": "code",
      "execution_count": 45,
      "metadata": {
        "id": "Ji6GTr3enEgh"
      },
      "outputs": [],
      "source": [
        "# importing numpy\n",
        "import numpy as np\n",
        "import seaborn\n",
        "import pandas as pd"
      ]
    },
    {
      "cell_type": "markdown",
      "source": [
        " Q1. Write a function to generate a data matrix X. Inputs: Number of samples, feature dimension. Output: Data Matrix X."
      ],
      "metadata": {
        "id": "MLjepM6WzR2v"
      }
    },
    {
      "cell_type": "code",
      "source": [
        "# function to generate 'X' data matrix\n",
        "def data_matrix(num_of_samples, feat_dim):                        # Output should be a data matrix X\n",
        "  r = num_of_samples                                              # no. of samples taken\n",
        "  # np.random.seed(0)                                               # Generates pseudo-random number based on seed\n",
        "  X = np.random.normal(0,2000,size = (num_of_samples, feat_dim))  # uses random gaussian for generating X\n",
        "  X = np.c_[np.ones(r),X]                                         # Adding a column of 1's - Bias in X\n",
        "  return X"
      ],
      "metadata": {
        "id": "yryLl036u6Ck"
      },
      "execution_count": 3,
      "outputs": []
    },
    {
      "cell_type": "code",
      "source": [
        "# testing values\n",
        "num_of_samples = 1000   # no. of samples\n",
        "feat_dim = 10           # feature dimension\n",
        "mu=0.0                  # mean for gaussian noise\n",
        "std = 0.1               # standard deviation for gaussian noise\n",
        "X = data_matrix(num_of_samples, feat_dim)                            # Data matrix X\n",
        "w_target = np.random.randint(num_of_samples, size = (feat_dim+1,1))  # weight vector for target value (fixed)\n",
        "w = np.random.randint(num_of_samples, size = (feat_dim+1,1))         # weight vector for prediction values"
      ],
      "metadata": {
        "id": "OO1izHXRu6XO"
      },
      "execution_count": 4,
      "outputs": []
    },
    {
      "cell_type": "code",
      "source": [
        "'''\n",
        "TEST CASES\n",
        "'''\n",
        "num_of_samples_1 = 2\n",
        "feat_dim_1 = 2 \n",
        "# run after use seed in data matrix function\n",
        "# np.testing.assert_almost_equal(data_matrix(num_of_samples_1, feat_dim_1),np.array([[1,352.810469, 80.031442], [1,195.747597, 448.17864]]),decimal=0)"
      ],
      "metadata": {
        "id": "exjNWoX1YRlc"
      },
      "execution_count": 5,
      "outputs": []
    },
    {
      "cell_type": "markdown",
      "source": [
        "Q2. Write a function to generated dependent variable column t.\n",
        "\n",
        "(a) Inputs: Data matrix X, weight vector for each column, bias w0, noise variance\n",
        "\n",
        "b) Output: Target vector t\n",
        "<center>$t = w^Tx + noise$</center>"
      ],
      "metadata": {
        "id": "PiIm30S_zleM"
      }
    },
    {
      "cell_type": "code",
      "source": [
        "def noise(X, mu, std):\n",
        "  noiise = np.random.normal(mu, std, size = (len(X),1))  # gaussian noise with mean 'mu' and standaed deviation 'std'\n",
        "  return noiise"
      ],
      "metadata": {
        "id": "HlO-aBd5W66B"
      },
      "execution_count": 6,
      "outputs": []
    },
    {
      "cell_type": "code",
      "source": [
        "def target_t(X, w_target, noise_var):                     # Output should be a target vector t\n",
        "    # np.random.seed(0)                                     # Generates pseudo-random number based on seedz\n",
        "    t = np.dot( X,w_target) + noise_var                   # target vector t = (w^T)x + noise with weight vector w_target\n",
        "    return t"
      ],
      "metadata": {
        "id": "He6b1ELn37As"
      },
      "execution_count": 7,
      "outputs": []
    },
    {
      "cell_type": "code",
      "source": [
        "'''\n",
        "TEST CASES\n",
        "'''\n",
        "X1 = np.array([[1,5,4],[1,8,2]])\n",
        "w1 = np.array([2,1,1])\n",
        "noise_var = 10\n",
        "# run after use seed in data matrix function\n",
        "# np.testing.assert_almost_equal(target_t(X1,w1),np.array([[11.176405, 12.176405],[11.040016, 12.040016]]),decimal=3)"
      ],
      "metadata": {
        "id": "zqGWCjP9iDum"
      },
      "execution_count": 8,
      "outputs": []
    },
    {
      "cell_type": "markdown",
      "source": [
        "Q3. Write a function to compute a linear regression estimate.\n",
        "\n",
        "a) Input: data matrix X and weight vector w\n",
        "\n",
        "b) Output: y\n",
        "<center>$y = w^Tx $</center>"
      ],
      "metadata": {
        "id": "CS0OhN3c54i_"
      }
    },
    {
      "cell_type": "code",
      "source": [
        "def pred_y(X, w):       # Output should be a prediction vector y\n",
        "  y = np.dot(X,w)       # prediction vector y = (w^T)x with weight vector w\n",
        "  return y"
      ],
      "metadata": {
        "id": "CdYJ2JgZ25YR"
      },
      "execution_count": 9,
      "outputs": []
    },
    {
      "cell_type": "code",
      "source": [
        "'''\n",
        "TEST CASES\n",
        "'''\n",
        "X1 = np.array([[1,3,2],[1,1,1]])\n",
        "w1 = np.array([2,1,1]) \n",
        "np.testing.assert_array_equal(pred_y(X1,w1),np.array([7,4]))"
      ],
      "metadata": {
        "id": "h2h_RP9njExH"
      },
      "execution_count": 10,
      "outputs": []
    },
    {
      "cell_type": "markdown",
      "source": [
        "Q4. Write a function to compute the mean square error of two vectors y and t.\n",
        "\n",
        "<center>\n",
        "$MSE = 1/n \\sum_{i=1}^n (y - t)^2$\n",
        "</center>"
      ],
      "metadata": {
        "id": "JXTSxOQI6RKB"
      }
    },
    {
      "cell_type": "code",
      "source": [
        "def MSE(X, w, t):                                   # Output should be a MSE value\n",
        "    MSE = np.mean(np.square(pred_y(X, w) - t))      # MSE = (sum(y-t)^2)/N\n",
        "    return MSE"
      ],
      "metadata": {
        "id": "MoQHR57j6Up9"
      },
      "execution_count": 11,
      "outputs": []
    },
    {
      "cell_type": "code",
      "source": [
        "'''\n",
        "TEST CASES\n",
        "'''\n",
        "X1=np.array([[1,3,6],[1,4.5,6]])\n",
        "w1 = np.array([2,1,1]) \n",
        "t1=np.array([11.176405, 12.176405])\n",
        "np.testing.assert_almost_equal(MSE(X1,w1,t1),np.array([0.068]),decimal=3)"
      ],
      "metadata": {
        "id": "FMQf-BItjR-D"
      },
      "execution_count": 12,
      "outputs": []
    },
    {
      "cell_type": "markdown",
      "source": [
        "Q5. Write a function to estimate the weights of linear regression using pseudo-inverse, assuming L2 regularization:\n",
        "\n",
        "a) Input: X, t, and lambda\n",
        "\n",
        "b) Output: w, MSE, y\n",
        "<center>\n",
        "$w = (X^T X + \\lambda I)^{-1} X^T t$\n",
        "</center>"
      ],
      "metadata": {
        "id": "O7Wjjt6g-JD3"
      }
    },
    {
      "cell_type": "code",
      "source": [
        "def Pseudo_Inverse(X, t, lambda1):                                             # Output should be weight vector, prediction vector, MSE value\n",
        "    I=np.identity(len(X[0]))                                                   # Identity Matrix\n",
        "    X_t=np.transpose(X)                                                        # Xtranspose=X'\n",
        "    w_new=np.dot(np.dot(np.linalg.inv((np.dot(X_t,X)+lambda1*I)),X_t),t)       # w = (X' X + lambda I)^(-1) X' t\n",
        "    y_new = pred_y(X,w_new)                                                    # y = (w^T).X\n",
        "    MSE_new = MSE(X, w_new, t)                                                 # MSE = (sum(y-t)^2)/N\n",
        "    return w_new, y_new, MSE_new"
      ],
      "metadata": {
        "id": "TxU8FyUo-M-G"
      },
      "execution_count": 13,
      "outputs": []
    },
    {
      "cell_type": "code",
      "source": [
        "'''\n",
        "TEST CASES\n",
        "'''\n",
        "X1=np.array([[1,3,6,5],[1,4.5,6.6,6]])\n",
        "t1=np.array([4,5.5])\n",
        "np.testing.assert_array_almost_equal(Pseudo_Inverse(X1,t1,0.5)[0],np.array([ -0.003,  0.491,  0.183,  0.319]),decimal=3)  # testing for weight vector\n",
        "np.testing.assert_array_almost_equal(Pseudo_Inverse(X1,t1,0.5)[1],np.array([ 4.168, 5.334]),decimal=3)                    # testing for prediction vector\n",
        "np.testing.assert_almost_equal(Pseudo_Inverse(X1,t1,0.5)[2],np.array([ 0.028]),decimal=3)                                 # testing for MSE value"
      ],
      "metadata": {
        "id": "kiKutEScbxIE"
      },
      "execution_count": 14,
      "outputs": []
    },
    {
      "cell_type": "markdown",
      "source": [
        "Q6. Write a function to compute the gradient of MSE with respect to its weight vector.\n",
        "\n",
        "a) Input: X matrix, t vector, and w vector\n",
        "\n",
        "b) Output: gradient vector\n",
        "<center>\n",
        "$MSE$_$Grad = (1/n)∑_i[(wi.xi-ti)xi]$\n",
        "</center>"
      ],
      "metadata": {
        "id": "lqrAdWFBAWvw"
      }
    },
    {
      "cell_type": "code",
      "source": [
        "def MSE_Gradient(X, t, w):                                                   # Output should be MSE gradient vector (have the same size as w)\n",
        "    mse_grad = []                                                            #initialize \n",
        "    for i in range(0,len(w)):\n",
        "      sum = 0\n",
        "      for j in range(0, len(X)):\n",
        "        sum += (1/len(X))*(pred_y(X,w)[i] - t[i])*X[j][i]                    # (1/n)sum[(wi.xi-ti)xi]\n",
        "      mse_grad.append(sum)\n",
        "    mse_grad = np.array(mse_grad).reshape(len(w),1)/np.linalg.norm(mse_grad) # (1/n)sum[(wi.xi-ti)xi])/norm\n",
        "    return mse_grad"
      ],
      "metadata": {
        "id": "AWcoAzFiAbO7"
      },
      "execution_count": 15,
      "outputs": []
    },
    {
      "cell_type": "code",
      "source": [
        "'''\n",
        "TEST CASES\n",
        "'''\n",
        "X1=np.array([[1,1,3,6],[1,1,4.5,6]])\n",
        "w1 = np.array([2,1,1,1]) \n",
        "t1=np.array([11.176405, 12.176405])\n",
        "# run after use seed in data matrix function\n",
        "# np.testing.assert_almost_equal(MSE_Gradient(X,w,target_t(X,w_target)),np.array([ -2.14719  ,  -2.14719  ,  -8.4269625, -12.88314  ]),decimal=3)"
      ],
      "metadata": {
        "id": "mwuFkP8uVnrb"
      },
      "execution_count": 16,
      "outputs": []
    },
    {
      "cell_type": "markdown",
      "source": [
        "Q7. Write a function to compute L2 norm of a vector w passed as a numpy array. Exclude bias w0.\n",
        "<center>\n",
        "$L2$_$norm = \\sqrt{(w1^2+w2^2+...wn^2)}$\n",
        "</center>"
      ],
      "metadata": {
        "id": "VbZ7K4qLC0gb"
      }
    },
    {
      "cell_type": "code",
      "source": [
        "def L2_norm(w):                                       # Output should be a single number based on L2-norm (with sqrt)\n",
        "  L2_norm  = np.sqrt(np.sum([i**2 for i in w[1:]]))   # (w1^2+w2^2+...wn^2)^0.5\n",
        "  return L2_norm"
      ],
      "metadata": {
        "id": "edf0ZdhbC4qR"
      },
      "execution_count": 17,
      "outputs": []
    },
    {
      "cell_type": "code",
      "source": [
        "'''\n",
        "TEST CASES, DO NOT CHANGE\n",
        "'''\n",
        "w1=np.array([0,2,-1,0.5,1])\n",
        "np.testing.assert_almost_equal(L2_norm(w1),2.5,decimal=3)"
      ],
      "metadata": {
        "id": "C5VDr_gi2Ebb"
      },
      "execution_count": 18,
      "outputs": []
    },
    {
      "cell_type": "markdown",
      "source": [
        "Q8. Write a function to compute the gradient of L2 norm with respect to the weight vectors.\n",
        "\n",
        "a) Input: X matrix and w vector\n",
        "\n",
        "b) Output: gradient vector, where gradient with respect to w0 is 0.\n",
        "<center>\n",
        "$L2$_$Grad =\\sum_i \\frac{wi}{\\sqrt{(w1^2+w2^2+...wn^2)}}$\n",
        "</center>"
      ],
      "metadata": {
        "id": "dU3PsuapGMru"
      }
    },
    {
      "cell_type": "code",
      "source": [
        "def L2_Gradient(w):                         # Output should have the same size as w\n",
        "    L2_grad=np.zeros(len(w));               # initialize\n",
        "    for i in range(1,len(w)):\n",
        "      L2_grad[i]=(w[i]/L2_norm(w))          # sum[wi/L2_Norm]\n",
        "    return L2_grad"
      ],
      "metadata": {
        "id": "hDTQql9BGL0C"
      },
      "execution_count": 19,
      "outputs": []
    },
    {
      "cell_type": "code",
      "source": [
        "'''\n",
        "TEST CASES\n",
        "'''\n",
        "w1=np.array([0,2,-1,0.5,1])\n",
        "np.testing.assert_array_almost_equal(L2_Gradient(w1),np.array([ 0. ,  0.8, -0.4,  0.2,  0.4]),decimal=3)\n"
      ],
      "metadata": {
        "id": "1TG8lusYMFP7"
      },
      "execution_count": 20,
      "outputs": []
    },
    {
      "cell_type": "markdown",
      "source": [
        "Q9. Write a function to compute L1 norm of a vector w passed as a numpy array. Exclude bias w0.\n",
        "<center>\n",
        "$L1$_$norm = |w1|+|w2|+....+|wn|$\n",
        "</center>"
      ],
      "metadata": {
        "id": "OgQDOZpuHJX9"
      }
    },
    {
      "cell_type": "code",
      "source": [
        "def L1_norm(w):                                   # Output should be a single number\n",
        "  L1_norm  = np.sum([np.abs(i) for i in w[1:]])   # (|w1|+|w2|+...|wn|)\n",
        "  return L1_norm"
      ],
      "metadata": {
        "id": "TJlm3LU7HS2B"
      },
      "execution_count": 21,
      "outputs": []
    },
    {
      "cell_type": "code",
      "source": [
        "'''\n",
        "TEST CASES\n",
        "'''\n",
        "w1=np.array([0,2,-1,0.5,1])\n",
        "np.testing.assert_almost_equal(L1_norm(w1),4.5,decimal=3)"
      ],
      "metadata": {
        "id": "bvXoXCNG25xo"
      },
      "execution_count": 22,
      "outputs": []
    },
    {
      "cell_type": "markdown",
      "source": [
        "Q10. Write a function to compute the gradient of L1 norm with respect to the weight vectors.\n",
        "\n",
        "a) Input: X matrix and w vector\n",
        "\n",
        "b) Output: gradient vector, where gradient with respect to w0 is 0.\n",
        "<center>\n",
        "$L1$_$Grad = ∑_i[sign(wi)]$\n",
        "</center>"
      ],
      "metadata": {
        "id": "Pb3opBpfH352"
      }
    },
    {
      "cell_type": "code",
      "source": [
        "def L1_Gradient (w):                    # Output should have the same size as w\n",
        "    L1_grad=np.zeros(len(w));           # initialize\n",
        "    for i in range(1,len(w)):\n",
        "        L1_grad[i]= (np.sign(w[i]))     # sum[sign(wi)]       \n",
        "    return np.array(L1_grad)"
      ],
      "metadata": {
        "id": "dyY6gTa6H_XY"
      },
      "execution_count": 23,
      "outputs": []
    },
    {
      "cell_type": "code",
      "source": [
        "'''\n",
        "TEST CASES\n",
        "'''\n",
        "w1=np.array([0,2,-1,0.5,1])\n",
        "np.testing.assert_array_almost_equal(L1_Gradient(w1),np.array([ 0, 1, -1, 1, 1]),decimal=3)"
      ],
      "metadata": {
        "id": "a7RLTvJjE19Q"
      },
      "execution_count": 24,
      "outputs": []
    },
    {
      "cell_type": "markdown",
      "source": [
        "Q11. Write a function for a single update of weights of linear regression using gradient descent.\n",
        "\n",
        "a) Input: X, t, w, eta, lambda 2, lambda 1. Note that the weight of MSE will be 1\n",
        "\n",
        "b) Output: updated weight and updated MSE\n",
        "<center>\n",
        "$w$_$new = w$_$old - η.∇_wL(w)$\n",
        "</center>"
      ],
      "metadata": {
        "id": "Y7VOxon3OwT-"
      }
    },
    {
      "cell_type": "code",
      "source": [
        "def gradfun(X,t,w,eta,lambda_2,lambda_1):                                           # Output should be weight vector, MSE value\n",
        "  L2_grad = L2_Gradient(w).reshape(feat_dim+1,1)                                    # Reshape L2 gradient vector\n",
        "  L1_grad = L1_Gradient(w).reshape(feat_dim+1,1)                                    # Reshape L1 gradient vector\n",
        "  grad_loss = MSE_Gradient(X, t, w) + lambda_2*L2_grad + lambda_1*L1_grad           # grad_L = MSE gradient vector + lambda2*L2 gradient vector + lambda1*L1 gradient vector\n",
        "  w_updated = w - eta*grad_loss                                                     # w = w - eta*grad_L\n",
        "  MSE_updated = MSE(X, w_updated, t)                                                # MSE = (sum(y-t)^2)/N\n",
        "  return w_updated, MSE_updated"
      ],
      "metadata": {
        "id": "fj9C2HAxLcck"
      },
      "execution_count": 25,
      "outputs": []
    },
    {
      "cell_type": "code",
      "source": [
        "'''\n",
        "TEST CASES\n",
        "'''\n",
        "X1=np.array([[1,3,6,5],[1,4.5,6.6,6]])\n",
        "t1=np.array([4,5.5])\n",
        "w1=np.array([0,2,-1,0.5])\n",
        "# run after use seed in data matrix function\n",
        "# np.testing.assert_allclose(gradfun(X1,t1,w1,0.5,0.2,0.2),np.array([2.55, 2.94, 2.9 , 0.4 ]))\n",
        "# gradfun(X1,t1,w1,0.5,0.2,0.2)"
      ],
      "metadata": {
        "id": "aVwfoNhY37nG"
      },
      "execution_count": 26,
      "outputs": []
    },
    {
      "cell_type": "markdown",
      "source": [
        "Q12. Write a function to estimate the weights of linear regression using gradient descent.\n",
        "\n",
        "a) Inputs: X, t, lambda2 (default 0), lambda1 (default 0), eta, max_iter, min_change_NRMSE\n",
        "\n",
        "b) Output: Final w, final RMSE normalized with respect to variance of t.\n",
        "\n",
        "c) Stopping criteria: Either max_iter has been reached, or the normalized RMSE does not change by more than\n",
        "min_change_NRMSE\n",
        "<center>\n",
        "$w$_$new = w$_$old - η.∇_wL(w)$\n",
        "</center><center>\n",
        "$w$_old = w_$new$\n",
        "\n",
        "until &nbsp;&nbsp;|Δ.w|<ϵ  &nbsp;&nbsp;  or &nbsp;&nbsp;||∇$_wL(w)||<ϵ$\n",
        "</center>"
      ],
      "metadata": {
        "id": "VXJnXAr7RKFn"
      }
    },
    {
      "cell_type": "code",
      "source": [
        "def Gradient_Descent(X,w, t, eta, max_iter, min_change_NRMSE, lambda_2=0, lambda_1=0):   # Output should be weight vector, NRMSE value\n",
        "    initial_NRMSE = np.Inf                                                                     # initialize Initial NRMSE = inf\n",
        "    initial_w = w                                                                              # initialize weight vector\n",
        "    for i in range(max_iter):\n",
        "      w_grad, MSE = gradfun(X,t,initial_w,eta,lambda_2,lambda_1)                               # Calculate the update weights and updatd MSE\n",
        "      # print(w_grad)\n",
        "      NRMSE = np.sqrt(MSE)/np.std(t)                                                           # It should be a single number. RMSE/var(t) \n",
        "      # print(NRMSE)\n",
        "      if abs(initial_NRMSE - NRMSE) < min_change_NRMSE:                                        # if difference between current and previous error is less the min_change_NRMSE then stop iteration\n",
        "          # print(i)\n",
        "          break\n",
        "      initial_NRMSE = NRMSE                                                                    # update NRMSE\n",
        "      initial_w = w_grad                                                                       # update weight vector\n",
        "    return initial_w, initial_NRMSE                                                            #You should return variables structured like this"
      ],
      "metadata": {
        "id": "cmdWuROdRkOT"
      },
      "execution_count": 27,
      "outputs": []
    },
    {
      "cell_type": "markdown",
      "source": [
        "Q13. Run multiple experiments (with different random seeds) for, plot the results of (box plots), and comment on the trends and\n",
        "potential reasons for the following relations:\n",
        "\n",
        "a) Training and validation NRMSE obtained using pseudo inverse with number of training samples\n"
      ],
      "metadata": {
        "id": "6OB3pE1a9D18"
      }
    },
    {
      "cell_type": "code",
      "source": [
        "samples = [100,1000,10000,100000,100000, 1000000]                                                                    # Number of samples\n",
        "feat_dim = 10                                                                                                        # feature dimension\n",
        "w_target = np.random.randint(num_of_samples, size = (feat_dim+1,1))                                                  # weight vector for target value (fixed)\n",
        "dic_NRMSE = []                                                                                                       # initialize for NRMSE Q13 part (a)\n",
        "for seeed in range(0,15):\n",
        "  np.random.seed(seeed)                                                                                              # Generates pseudo-random number based on seed\n",
        "  for no_samples in samples:\n",
        "    X1 = data_matrix(no_samples, feat_dim)                                                                           # Data Matrix X\n",
        "    X1_training, X1_validation = X1[:int(0.7*no_samples)], X1[int(0.7*no_samples):]                                  # split X into training and validation set\n",
        " \n",
        "    w_train, y_train, MSE_train = Pseudo_Inverse(X1_training, target_t(X1_training, w_target, noise(X1_training, mu, std)), lambda1 =0)           # calculate training weight vector and MSE value from pseudoInverse\n",
        "    MSE_valid = MSE(X1_validation , w_train, target_t(X1_validation, w_target, noise(X1_validation, mu, std)))                                    # find the value of validation MSE\n",
        "\n",
        "    t_train = target_t(X1_training, w_target, noise(X1_training, mu, std))                                                 # training target vector t\n",
        "    t_valid = target_t(X1_validation, w_target, noise(X1_validation, mu, std))                                             # validation target vector t\n",
        "    NRMSE_train = np.sqrt(MSE_train)/np.std(t_train)                                                                       # It should be a single number. Training_RMSE/std_dev(t) \n",
        "    NRMSE_valid = np.sqrt(MSE_valid)/np.std(t_valid)                                                                       # It should be a single number. Vaildation_RMSE/std_dev(t)\n",
        "\n",
        "    dic_NRMSE.append({'seed': seeed, 'NRMSE': NRMSE_train, 'No. of Sample': no_samples, 'Type': \"Training Set\"})     # append the data of Training set of NRMSE\n",
        "    dic_NRMSE.append({'seed': seeed, 'NRMSE': NRMSE_valid, 'No. of Sample': no_samples, 'Type': \"Validation Set\"})   # append the data of Validation set of NRMSE\n",
        "\n",
        "NRMSE_df_a = pd.DataFrame(dic_NRMSE)                                                                                 # make dataframe \n",
        "NRMSE_df_a.to_csv(\"/content/drive/My Drive/q_13_a.csv\")                                                                             # save the file into drive\n",
        "# print(NRMSE_df_a)\n",
        "seaborn.boxplot(data = NRMSE_df_a , x=\"No. of Sample\", y=\"NRMSE\", hue=\"Type\")  "
      ],
      "metadata": {
        "id": "42cmUjz38-LA",
        "colab": {
          "base_uri": "https://localhost:8080/",
          "height": 307
        },
        "outputId": "c9bd5cf3-341e-4cd5-b639-8d8ab7202f61"
      },
      "execution_count": null,
      "outputs": [
        {
          "output_type": "execute_result",
          "data": {
            "text/plain": [
              "<matplotlib.axes._subplots.AxesSubplot at 0x7fdbf12862e0>"
            ]
          },
          "metadata": {},
          "execution_count": 28
        },
        {
          "output_type": "display_data",
          "data": {
            "text/plain": [
              "<Figure size 432x288 with 1 Axes>"
            ],
            "image/png": "[encoded data removed]"
          },
          "metadata": {
            "needs_background": "light"
          }
        }
      ]
    },
    {
      "cell_type": "markdown",
      "source": [
        "We notice here that, mean of NRMSE is same for any number of samples value but variance of NRMSE decreases as number of samples value increases for both Training and Validation Data Set."
      ],
      "metadata": {
        "id": "vcNH-9MCYvAk"
      }
    },
    {
      "cell_type": "code",
      "source": [
        "a_graph = pd.read_csv(\"drive/My Drive/q_13_a.csv\")                          # load the file from drive\n",
        "# seaborn.boxplot(data = a_graph, x=\"No. of Sample\", y=\"NRMSE\", hue=\"Type\")"
      ],
      "metadata": {
        "id": "Q_C66PlNn28I"
      },
      "execution_count": null,
      "outputs": []
    },
    {
      "cell_type": "markdown",
      "source": [
        "b) Training and validation NRMSE obtained using pseudo inverse with number of variables"
      ],
      "metadata": {
        "id": "yL7j_ZtIBKjY"
      }
    },
    {
      "cell_type": "code",
      "source": [
        "num_of_samples = 1000                                                                                                # no. of samples\n",
        "variables = [1,2,4,8,16,32,128,256]                                                                                # feature dimension\n",
        "dic_NRMSE = []                                                                                                       # initialize for NRMSE Q13 part (a)\n",
        "for seeed in range(0,15):\n",
        "  np.random.seed(seeed)                                                                                              # Generates pseudo-random number based on seed\n",
        "  for no_variables in variables:\n",
        "    w_target = np.random.randint(num_of_samples, size = (no_variables+1,1))                                          # weight vector for target value (fixed)\n",
        "    X1 = data_matrix(num_of_samples, no_variables)                                                                   # Data Matrix X\n",
        "    X1_training, X1_validation = X1[:int(0.7*num_of_samples)], X1[int(0.7*num_of_samples):]                          # split X into training and validation set\n",
        "    w_train, y_train, MSE_train = Pseudo_Inverse(X1_training, target_t(X1_training, w_target, noise(X1_training, mu, std)), lambda1 =0)           # calculate training weight vector and MSE value from pseudoInverse\n",
        "\n",
        "    MSE_valid = MSE(X1_validation , w_train, target_t(X1_validation, w_target, noise(X1_validation, mu, std)))                                    # find the value of validation MSE\n",
        "\n",
        "\n",
        "    t_train = target_t(X1_training, w_target, noise(X1_training, mu, std))                                                 # training target vector t\n",
        "    t_valid = target_t(X1_validation, w_target, noise(X1_validation, mu, std))                                             # validation target vector t\n",
        "    NRMSE_train = np.sqrt(MSE_train)/np.std(t_train)                                                                       # It should be a single number. Training_RMSE/std_dev(t) \n",
        "    NRMSE_valid = np.sqrt(MSE_valid)/np.std(t_valid)                                                                       # It should be a single number. Vaildation_RMSE/std_dev(t)\n",
        "\n",
        "    dic_NRMSE.append({'seed': seeed, 'NRMSE': NRMSE_train, 'No. of Variables': no_variables, 'Type': \"Training Set\"})     # append the data of Training set of NRMSE\n",
        "    dic_NRMSE.append({'seed': seeed, 'NRMSE': NRMSE_valid, 'No. of Variables': no_variables, 'Type': \"Validation Set\"})   # append the data of Validation set of NRMSE\n",
        "\n",
        "NRMSE_df_b = pd.DataFrame(dic_NRMSE)                                                                                 # make dataframe \n",
        "NRMSE_df_b.to_csv(\"/content/drive/My Drive/q_13_b.csv\")                                                                             # save the file into drive\n",
        "# print(NRMSE_df_b)\n",
        "seaborn.boxplot(data = NRMSE_df_b , x=\"No. of Variables\", y=\"NRMSE\", hue=\"Type\")"
      ],
      "metadata": {
        "id": "FXIOz5VutaWK",
        "colab": {
          "base_uri": "https://localhost:8080/",
          "height": 307
        },
        "outputId": "53705482-ed6f-45b2-fd5c-6ce2dccb6315"
      },
      "execution_count": null,
      "outputs": [
        {
          "output_type": "execute_result",
          "data": {
            "text/plain": [
              "<matplotlib.axes._subplots.AxesSubplot at 0x7fdbf0c42400>"
            ]
          },
          "metadata": {},
          "execution_count": 30
        },
        {
          "output_type": "display_data",
          "data": {
            "text/plain": [
              "<Figure size 432x288 with 1 Axes>"
            ],
            "image/png": "[encoded data removed]"
          },
          "metadata": {
            "needs_background": "light"
          }
        }
      ]
    },
    {
      "cell_type": "markdown",
      "source": [
        "The NRMSE value decreases as number of variables increases. As we seen in error vs Model complexity model in class, Training error decreases as model complexity increases which we can seen above in boxplot but validation error first decreases then increases (overfitting area) as model complexity increases but i am not able to observe the sweet spot in above boxplot where validation error increases because it takes too much time to run."
      ],
      "metadata": {
        "id": "CE2-6k28Zp3A"
      }
    },
    {
      "cell_type": "code",
      "source": [
        "b_graph = pd.read_csv(\"drive/My Drive/q_13_b.csv\")                          # load the file from drive\n",
        "# seaborn.boxplot(data = b_graph, x=\"No. of Variables\", y=\"NRMSE\", hue=\"Type\")"
      ],
      "metadata": {
        "id": "C348o4TCEraZ"
      },
      "execution_count": null,
      "outputs": []
    },
    {
      "cell_type": "markdown",
      "source": [
        "c) Training and validation NRMSE obtained using pseudo inverse with noise variance"
      ],
      "metadata": {
        "id": "CinjRY5o3g4T"
      }
    },
    {
      "cell_type": "code",
      "source": [
        "num_of_samples = 1000                                                                                                # no. of samples\n",
        "feat_dimens = 10                                                                                                     # feature dimension\n",
        "noise_vari = [10,100,1000,10000]\n",
        "dic_NRMSE = []                                                                                                       # initialize for NRMSE \n",
        "for seeed in range(0,15):\n",
        "  np.random.seed(seeed)                                                                                              # Generates pseudo-random number based on seed\n",
        "  for noiise in noise_vari:\n",
        "    w_target = np.random.randint(num_of_samples, size = (feat_dimens+1,1))                                          # weight vector for target value (fixed)\n",
        "    X1 = data_matrix(num_of_samples, feat_dimens)                                                                   # Data Matrix X\n",
        "    X1_training, X1_validation = X1[:int(0.7*num_of_samples)], X1[int(0.7*num_of_samples):]                          # split X into training and validation set\n",
        "    w_train, y_train, MSE_train = Pseudo_Inverse(X1_training, target_t(X1_training, w_target, noise(X1_training, mu, noiise)), lambda1 =0)           # calculate training weight vector and MSE value from pseudoInverse\n",
        "\n",
        "    MSE_valid = MSE(X1_validation , w_train, target_t(X1_validation, w_target, noise(X1_validation, mu, noiise)))                                    # find the value of validation MSE\n",
        "\n",
        "\n",
        "    t_train = target_t(X1_training, w_target, noise(X1_training, mu, std))                                                 # training target vector t\n",
        "    t_valid = target_t(X1_validation, w_target, noise(X1_validation, mu, std))                                             # validation target vector t\n",
        "    NRMSE_train = np.sqrt(MSE_train)/np.std(t_train)                                                                       # It should be a single number. Training_RMSE/std_dev(t) \n",
        "    NRMSE_valid = np.sqrt(MSE_valid)/np.std(t_valid)                                                                       # It should be a single number. Vaildation_RMSE/std_dev(t)\n",
        "\n",
        "    dic_NRMSE.append({'seed': seeed, 'NRMSE': NRMSE_train, 'Noise variance': noiise, 'Type': \"Training Set\"})     # append the data of Training set of NRMSE\n",
        "    dic_NRMSE.append({'seed': seeed, 'NRMSE': NRMSE_valid, 'Noise variance': noiise, 'Type': \"Validation Set\"})   # append the data of Validation set of NRMSE\n",
        " \n",
        "NRMSE_df_c = pd.DataFrame(dic_NRMSE)                                                                              # make dataframe\n",
        "NRMSE_df_c.to_csv(\"/content/drive/My Drive/q_13_c.csv\")                                                                          # save the file into drive    \n",
        "# print(NRMSE_df_c)\n",
        "seaborn.boxplot(data = NRMSE_df_c , x=\"Noise variance\", y=\"NRMSE\", hue=\"Type\")"
      ],
      "metadata": {
        "id": "leVSG1bgHjiC",
        "colab": {
          "base_uri": "https://localhost:8080/",
          "height": 296
        },
        "outputId": "98ff8a7f-9be1-415e-ead5-5e4c78207aa1"
      },
      "execution_count": null,
      "outputs": [
        {
          "output_type": "execute_result",
          "data": {
            "text/plain": [
              "<matplotlib.axes._subplots.AxesSubplot at 0x7fdbf11f5370>"
            ]
          },
          "metadata": {},
          "execution_count": 32
        },
        {
          "output_type": "display_data",
          "data": {
            "text/plain": [
              "<Figure size 432x288 with 1 Axes>"
            ],
            "image/png": "[encoded data removed]"
          },
          "metadata": {
            "needs_background": "light"
          }
        }
      ]
    },
    {
      "cell_type": "markdown",
      "source": [
        "The NRMSE value increases as noise variance increases. It is logically true because as the noise increases in model, they gave more error."
      ],
      "metadata": {
        "id": "PluodjNBc6tp"
      }
    },
    {
      "cell_type": "code",
      "source": [
        "c_graph = pd.read_csv(\"drive/My Drive/q_13_c.csv\")                          # load the file from drive\n",
        "# seaborn.boxplot(data = c_graph, x=\"Noise variance\", y=\"NRMSE\", hue=\"Type\")"
      ],
      "metadata": {
        "id": "6M3UApkf3yi7"
      },
      "execution_count": null,
      "outputs": []
    },
    {
      "cell_type": "markdown",
      "source": [
        "d) Training and validation NRMSE obtained using pseudo inverse with w0"
      ],
      "metadata": {
        "id": "hUqR75QNcfCG"
      }
    },
    {
      "cell_type": "code",
      "source": [
        "num_of_samples = 1000                                                                                                # no. of samples\n",
        "feat_dimens = 10                                                                                                     # feature dimension\n",
        "bias = [0.1,1,10,100,1000]\n",
        "dic_NRMSE = []                                                                                                       # initialize for NRMSE \n",
        "for seeed in range(0,15):\n",
        "  np.random.seed(seeed)                                                                                              # Generates pseudo-random number based on seed\n",
        "  for w0 in bias:\n",
        "    w_target = np.random.randint(num_of_samples, size = (feat_dimens+1,1))                                           # weight vector for target value (fixed)\n",
        "    w_target[0] = w0\n",
        "    X1 = data_matrix(num_of_samples, feat_dimens)                                                                    # Data Matrix X\n",
        "    X1_training, X1_validation = X1[:int(0.7*num_of_samples)], X1[int(0.7*num_of_samples):]                          # split X into training and validation set\n",
        "    w_train, y_train, MSE_train = Pseudo_Inverse(X1_training, target_t(X1_training, w_target, noise(X1_training, mu, std)), lambda1 =0)           # calculate training weight vector and MSE value from pseudoInverse\n",
        "\n",
        "    MSE_valid = MSE(X1_validation , w_train, target_t(X1_validation, w_target, noise(X1_validation, mu, std)))                                    # find the value of validation MSE\n",
        "\n",
        "\n",
        "    t_train = target_t(X1_training, w_target, noise(X1_training, mu, std))                                                 # training target vector t\n",
        "    t_valid = target_t(X1_validation, w_target, noise(X1_validation, mu, std))                                             # validation target vector t\n",
        "    NRMSE_train = np.sqrt(MSE_train)/np.std(t_train)                                                                       # It should be a single number. Training_RMSE/std_dev(t) \n",
        "    NRMSE_valid = np.sqrt(MSE_valid)/np.std(t_valid)                                                                       # It should be a single number. Vaildation_RMSE/std_dev(t)\n",
        "\n",
        "    dic_NRMSE.append({'seed': seeed, 'NRMSE': NRMSE_train, 'Bias': w0, 'Type': \"Training Set\"})     # append the data of Training set of NRMSE\n",
        "    dic_NRMSE.append({'seed': seeed, 'NRMSE': NRMSE_valid, 'Bias': w0, 'Type': \"Validation Set\"})   # append the data of Validation set of NRMSE\n",
        "\n",
        "NRMSE_df_d = pd.DataFrame(dic_NRMSE)                                                                # make dataframe\n",
        "NRMSE_df_d.to_csv(\"/content/drive/My Drive/q_13_d.csv\")                                                            # save the file into drive \n",
        "# print(NRMSE_df_d)\n",
        "seaborn.boxplot(data = NRMSE_df_d , x=\"Bias\", y=\"NRMSE\", hue=\"Type\")"
      ],
      "metadata": {
        "id": "RWcVfobQci7x",
        "colab": {
          "base_uri": "https://localhost:8080/",
          "height": 307
        },
        "outputId": "e2f99d55-2c81-40ea-a010-ca92d7061250"
      },
      "execution_count": null,
      "outputs": [
        {
          "output_type": "execute_result",
          "data": {
            "text/plain": [
              "<matplotlib.axes._subplots.AxesSubplot at 0x7fdbf09e7070>"
            ]
          },
          "metadata": {},
          "execution_count": 34
        },
        {
          "output_type": "display_data",
          "data": {
            "text/plain": [
              "<Figure size 432x288 with 1 Axes>"
            ],
            "image/png": "[encoded data removed]"
          },
          "metadata": {
            "needs_background": "light"
          }
        }
      ]
    },
    {
      "cell_type": "markdown",
      "source": [
        "The NRMSE value does not depend on Bias as we can see the same in above boxplot. As the Bias increases, we does not see any relation."
      ],
      "metadata": {
        "id": "r0xJFKDtdWjQ"
      }
    },
    {
      "cell_type": "code",
      "source": [
        "d_graph = pd.read_csv(\"drive/My Drive/q_13_d.csv\")                          # load the file from drive\n",
        "# seaborn.boxplot(data = d_graph, x=\"Bias\", y=\"NRMSE\", hue=\"Type\")"
      ],
      "metadata": {
        "id": "6y4wYLwrfzBA"
      },
      "execution_count": null,
      "outputs": []
    },
    {
      "cell_type": "markdown",
      "source": [
        "e) Training and validation NRMSE obtained using pseudo inverse with lambda2"
      ],
      "metadata": {
        "id": "U0nBP0CxCaVk"
      }
    },
    {
      "cell_type": "code",
      "source": [
        "num_of_samples = 1000                                                                                                # no. of samples\n",
        "feat_dimens = 10                                                                                                     # feature dimension\n",
        "lambda2 = [0.0001,0.001,0.01,0.1,1,10,100,1000,10000,100000]\n",
        "dic_NRMSE = []                                                                                                       # initialize for NRMSE \n",
        "\n",
        "for seeed in range(0,15):\n",
        "  np.random.seed(seeed)                                                                                              # Generates pseudo-random number based on seed\n",
        "  for lb in lambda2:\n",
        "    w_target = np.random.randint(num_of_samples, size = (feat_dimens+1,1))                                           # weight vector for target value (fixed)\n",
        "    X1 = data_matrix(num_of_samples, feat_dimens)                                                                    # Data Matrix X\n",
        "    X1_training, X1_validation = X1[:int(0.7*num_of_samples)], X1[int(0.7*num_of_samples):]                          # split X into training and validation set\n",
        "    w_train, y_train, MSE_train = Pseudo_Inverse(X1_training, target_t(X1_training, w_target, noise(X1_training, mu, std)), lb)           # calculate training weight vector and MSE value from pseudoInverse\n",
        "\n",
        "    MSE_valid = MSE(X1_validation , w_train, target_t(X1_validation, w_target, noise(X1_validation, mu, std)))                            # find the value of validation MSE\n",
        "\n",
        "    t_train = target_t(X1_training, w_target, noise(X1_training, mu, std))                                                 # training target vector t\n",
        "    t_valid = target_t(X1_validation, w_target, noise(X1_validation, mu, std))                                             # validation target vector t\n",
        "    NRMSE_train = np.sqrt(MSE_train)/np.std(t_train)                                                                       # It should be a single number. Training_RMSE/std_dev(t) \n",
        "    NRMSE_valid = np.sqrt(MSE_valid)/np.std(t_valid)                                                                       # It should be a single number. Vaildation_RMSE/std_dev(t)\n",
        "\n",
        "    dic_NRMSE.append({'seed': seeed, 'NRMSE': NRMSE_train, 'Lambda2': lb, 'Type': \"Training Set\"})     # append the data of Training set of NRMSE\n",
        "    dic_NRMSE.append({'seed': seeed, 'NRMSE': NRMSE_valid, 'Lambda2': lb, 'Type': \"Validation Set\"})   # append the data of Validation set of NRMSE\n",
        "\n",
        "NRMSE_df_e = pd.DataFrame(dic_NRMSE)                                                                   # make dataframe\n",
        "NRMSE_df_e.to_csv(\"/content/drive/My Drive/q_13_e.csv\")                                                               # save the file into drive \n",
        "# print(NRMSE_df_e)\n",
        "seaborn.boxplot(data = NRMSE_df_e , x=\"Lambda2\", y=\"NRMSE\", hue=\"Type\")"
      ],
      "metadata": {
        "id": "LEN3xNYFBZlJ",
        "colab": {
          "base_uri": "https://localhost:8080/",
          "height": 296
        },
        "outputId": "f4f15504-79e1-4a2b-fa90-2303b3751649"
      },
      "execution_count": null,
      "outputs": [
        {
          "output_type": "execute_result",
          "data": {
            "text/plain": [
              "<matplotlib.axes._subplots.AxesSubplot at 0x7fdbf089b3d0>"
            ]
          },
          "metadata": {},
          "execution_count": 36
        },
        {
          "output_type": "display_data",
          "data": {
            "text/plain": [
              "<Figure size 432x288 with 1 Axes>"
            ],
            "image/png": "[encoded data removed]"
          },
          "metadata": {
            "needs_background": "light"
          }
        }
      ]
    },
    {
      "cell_type": "markdown",
      "source": [
        "As the value of lambda increases, the high value of weight vector we get according to equation , <center>\n",
        "$w = (X^T X + \\lambda I)^{-1} X^T t$\n",
        "</center> so that we get more error which we can see in above boxplot."
      ],
      "metadata": {
        "id": "MEgqNKoFd35g"
      }
    },
    {
      "cell_type": "code",
      "source": [
        "e_graph = pd.read_csv(\"drive/My Drive/q_13_e.csv\")                          # load the file from drive\n",
        "# seaborn.boxplot(data = e_graph, x=\"Lambda2\", y=\"NRMSE\", hue=\"Type\")"
      ],
      "metadata": {
        "id": "a9M-nzUrDLyp"
      },
      "execution_count": null,
      "outputs": []
    },
    {
      "cell_type": "markdown",
      "source": [
        "f) Time taken to solve pseudo inverse with number of samples and number of variables and its breaking points"
      ],
      "metadata": {
        "id": "Fi6Y-CzpdYEM"
      }
    },
    {
      "cell_type": "code",
      "source": [
        "samples = [100,1000,10000,100000,100000, 1000000]                                                                    # Number of samples\n",
        "feat_dim = 10                                                                                                        # feature dimension\n",
        "w_target = np.random.randint(num_of_samples, size = (feat_dim+1,1))                                                  # weight vector for target value (fixed)\n",
        "dic_NRMSE = []                                                                                                       # initialize for NRMSE Q13 part (a)\n",
        "dic_time = []                                                                                                        # initialize for time Q13 part (f)\n",
        "import time\n",
        "                                                                                      \n",
        "for no_samples in samples:\n",
        "  X1 = data_matrix(no_samples, feat_dim)                                                                           # Data Matrix X\n",
        "  X1_training, X1_validation = X1[:int(0.7*no_samples)], X1[int(0.7*no_samples):]                                  # split X into training and validation set\n",
        "  start = time.time()                                                                                              # Start Time\n",
        "\n",
        "  w_train, y_train, MSE_train = Pseudo_Inverse(X1_training, target_t(X1_training, w_target, noise(X1_training, mu, std)), lambda1 =0)           # calculate training weight vector and MSE value from pseudoInverse\n",
        "  last = time.time()                                                                                               # End Time\n",
        "  time_taken = last - start                                                                                        # Time Taken to run pseudoIverse function\n",
        "  MSE_valid = MSE(X1_validation , w_train, target_t(X1_validation, w_target, noise(X1_validation, mu, std)))       # find the value of validation MSE\n",
        "\n",
        "  t_train = target_t(X1_training, w_target, noise(X1_training, mu, std))                                                 # training target vector t\n",
        "  t_valid = target_t(X1_validation, w_target, noise(X1_validation, mu, std))                                             # validation target vector t\n",
        "  NRMSE_train = np.sqrt(MSE_train)/np.std(t_train)                                                                       # It should be a single number. Training_RMSE/std_dev(t) \n",
        "  NRMSE_valid = np.sqrt(MSE_valid)/np.std(t_valid)                                                                       # It should be a single number. Vaildation_RMSE/std_dev(t)\n",
        "\n",
        "  dic_NRMSE.append({'NRMSE': NRMSE_train, 'No. of Sample': no_samples, 'Type': \"Training Set\"})     # append the data of Training set of NRMSE\n",
        "  dic_NRMSE.append({'NRMSE': NRMSE_valid, 'No. of Sample': no_samples, 'Type': \"Validation Set\"})   # append the data of Validation set of NRMSE\n",
        "  dic_time.append({'Time Taken': time_taken, 'No. of Sample': no_samples})                          # append the data of Time taken\n",
        "\n",
        "time_df_f1 = pd.DataFrame(dic_time)                                                                 # make dataframe\n",
        "time_df_f1.to_csv(\"/content/drive/My Drive/q_13_f1.csv\")                                                           # save the file into drive \n",
        "# print(time_df_f1)\n",
        "seaborn.lineplot(data = time_df_f1 , x=\"No. of Sample\", y=\"Time Taken\")"
      ],
      "metadata": {
        "id": "UkycQamVdadQ",
        "colab": {
          "base_uri": "https://localhost:8080/",
          "height": 296
        },
        "outputId": "eea48918-5907-420f-d5a2-c622fe59948e"
      },
      "execution_count": null,
      "outputs": [
        {
          "output_type": "execute_result",
          "data": {
            "text/plain": [
              "<matplotlib.axes._subplots.AxesSubplot at 0x7fdbf06e25b0>"
            ]
          },
          "metadata": {},
          "execution_count": 38
        },
        {
          "output_type": "display_data",
          "data": {
            "text/plain": [
              "<Figure size 432x288 with 1 Axes>"
            ],
            "image/png": "[encoded data removed]"
          },
          "metadata": {
            "needs_background": "light"
          }
        }
      ]
    },
    {
      "cell_type": "markdown",
      "source": [
        "As the number of samples increases, it take more time to find pseudo Inverse because of matrix multiplication take more time to do large data calculation. Here we can observe the graph between time taken and number of samples increases linearly."
      ],
      "metadata": {
        "id": "bewF3OZEgHQc"
      }
    },
    {
      "cell_type": "code",
      "source": [
        "f1_graph = pd.read_csv(\"drive/My Drive/q_13_f1.csv\")                          # load the file from drive\n",
        "# seaborn.lineplot(data = f1_graph, x=\"No. of Sample\", y=\"Time Taken\")"
      ],
      "metadata": {
        "id": "eOKIjLxbdtgw"
      },
      "execution_count": null,
      "outputs": []
    },
    {
      "cell_type": "code",
      "source": [
        "num_of_samples = 1000                                                                                                # no. of samples\n",
        "variables = [1,2,4,8,16,32,64,128,256,512,1024,2048]                                                            # feature dimension\n",
        "dic_NRMSE = []                                                                                                       # initialize for NRMSE Q13 part (a)\n",
        "dic_time = []                                                                                                        # initialize for time Q13 part (f)\n",
        "import time\n",
        "np.random.seed(0)                                                                                     # Generates pseudo-random number based on seed\n",
        "for no_variables in variables:\n",
        "  w_target = np.random.randint(num_of_samples, size = (no_variables+1,1))                                          # weight vector for target value (fixed)\n",
        "  X1 = data_matrix(num_of_samples, no_variables)                                                                   # Data Matrix X\n",
        "  X1_training, X1_validation = X1[:int(0.7*num_of_samples)], X1[int(0.7*num_of_samples):]                          # split X into training and validation set\n",
        "  start = time.time()                                                                                              # Start Time\n",
        "  w_train, y_train, MSE_train = Pseudo_Inverse(X1_training, target_t(X1_training, w_target, noise(X1_training, mu, std)), lambda1 =0)           # calculate training weight vector and MSE value from pseudoInverse\n",
        "\n",
        "  last = time.time()                                                                                               # End Time\n",
        "  time_taken = last - start                                                                                        # Time Taken to run pseudoIverse function\n",
        "  MSE_valid = MSE(X1_validation , w_train, target_t(X1_validation, w_target, noise(X1_validation, mu, std)))       # find the value of validation MSE\n",
        "\n",
        "  t_train = target_t(X1_training, w_target, noise(X1_training, mu, std))                                                 # training target vector t\n",
        "  t_valid = target_t(X1_validation, w_target, noise(X1_validation, mu, std))                                             # validation target vector t\n",
        "  NRMSE_train = np.sqrt(MSE_train)/np.std(t_train)                                                                       # It should be a single number. Training_RMSE/std_dev(t) \n",
        "  NRMSE_valid = np.sqrt(MSE_valid)/np.std(t_valid)                                                                       # It should be a single number. Vaildation_RMSE/std_dev(t)\n",
        "\n",
        "  dic_NRMSE.append({'NRMSE': NRMSE_train, 'No. of Variables': no_variables, 'Type': \"Training Set\"})     # append the data of Training set of NRMSE\n",
        "  dic_NRMSE.append({'NRMSE': NRMSE_valid, 'No. of Variables': no_variables, 'Type': \"Validation Set\"})   # append the data of Validation set of NRMSE\n",
        "  dic_time.append({'Time Taken': time_taken, 'No. of Variables': no_variables})                          # append the data of Time taken\n",
        "\n",
        "time_df_f2 = pd.DataFrame(dic_time)                                                                      # make dataframe\n",
        "time_df_f2.to_csv(\"/content/drive/My Drive/q_13_f2.csv\")                                                                # save the file into drive \n",
        "# print(time_df_f2)\n",
        "seaborn.lineplot(data = time_df_f2 , x=\"No. of Variables\", y=\"Time Taken\")"
      ],
      "metadata": {
        "id": "MIoUE_ASdtUw",
        "colab": {
          "base_uri": "https://localhost:8080/",
          "height": 296
        },
        "outputId": "1785150b-08a6-4c65-b591-1a57fc650e3c"
      },
      "execution_count": null,
      "outputs": [
        {
          "output_type": "execute_result",
          "data": {
            "text/plain": [
              "<matplotlib.axes._subplots.AxesSubplot at 0x7fdbf0677dc0>"
            ]
          },
          "metadata": {},
          "execution_count": 40
        },
        {
          "output_type": "display_data",
          "data": {
            "text/plain": [
              "<Figure size 432x288 with 1 Axes>"
            ],
            "image/png": "[encoded data removed]"
          },
          "metadata": {
            "needs_background": "light"
          }
        }
      ]
    },
    {
      "cell_type": "markdown",
      "source": [
        "As the number of variables increases, it take more time to find pseudo Inverse because of matrix multiplication take more time to do large data calculation. Here we can observe the graph between time taken and number of samples are somewhat linear onwards 1000 no.of variables."
      ],
      "metadata": {
        "id": "JTRMgmCrhIrG"
      }
    },
    {
      "cell_type": "code",
      "source": [
        "f2_graph = pd.read_csv(\"drive/My Drive/q_13_f2.csv\")                          # load the file from drive\n",
        "# seaborn.lineplot(data = f2_graph, x=\"No. of Variables\", y=\"Time Taken\")"
      ],
      "metadata": {
        "id": "H1aK_w5fdtRL"
      },
      "execution_count": null,
      "outputs": []
    },
    {
      "cell_type": "markdown",
      "source": [
        "g) Training and validation NRMSE obtained using gradient descent with max_iter"
      ],
      "metadata": {
        "id": "Qbn57pfzEpsN"
      }
    },
    {
      "cell_type": "code",
      "source": [
        "num_of_samples = 1000                                                                                               # no. of samples\n",
        "feat_dimens = 10                                                                                                    # feature dimension\n",
        "max_iter= [10,100,1000,2000]\n",
        "dic_NRMSE = []                                                                                                      # initialize for NRMSE \n",
        "\n",
        "for seeed in range(0,15):\n",
        "  np.random.seed(seeed)                                                                                             # Generates pseudo-random number based on seed\n",
        "  for iter in max_iter:\n",
        "    w_target = np.random.randint(num_of_samples, size = (feat_dimens+1,1))                                          # weight vector for target value (fixed)\n",
        "    X1 = data_matrix(num_of_samples, feat_dimens)                                                                   # Data Matrix X\n",
        "    X1_training, X1_validation = X1[:int(0.7*num_of_samples)], X1[int(0.7*num_of_samples):]                         # split X into training and validation set\n",
        "    w_train, NRMSE_train = Gradient_Descent(X1_training, w, target_t(X1_training, w_target, noise(X1_training, mu, std)), 0.1, iter, 1e-6, 0, 0)    # calculate training weight vector and MSE value from pseudoInverse\n",
        "\n",
        "    MSE_valid = MSE(X1_validation , w_train, target_t(X1_validation, w_target, noise(X1_validation, mu, std)))                                       # find the value of validation MSE\n",
        "\n",
        "    t_train = target_t(X1_training, w_target, noise(X1_training, mu, std))                                                 # training target vector t\n",
        "    t_valid = target_t(X1_validation, w_target, noise(X1_validation, mu, std))                                             # validation target vector t\n",
        "    NRMSE_valid = np.sqrt(MSE_valid)/np.std(t_valid)                                                                       # It should be a single number. Vaildation_RMSE/std_dev(t)\n",
        "\n",
        "    dic_NRMSE.append({'seed': seeed, 'NRMSE': NRMSE_train, 'max_iter': iter, 'Type': \"Training Set\"})     # append the data of Training set of NRMSE\n",
        "    dic_NRMSE.append({'seed': seeed, 'NRMSE': NRMSE_valid, 'max_iter': iter, 'Type': \"Validation Set\"})   # append the data of Validation set of NRMSE\n",
        "\n",
        "NRMSE_df_g = pd.DataFrame(dic_NRMSE)                                                                    # make dataframe\n",
        "NRMSE_df_g.to_csv(\"/content/drive/My Drive/q_13_g.csv\")                                                                # save the file into drive \n",
        "# print(NRMSE_df_g)\n",
        "seaborn.boxplot(data = NRMSE_df_g , x=\"max_iter\", y=\"NRMSE\", hue=\"Type\")"
      ],
      "metadata": {
        "id": "XLSPS2qzDYEG",
        "colab": {
          "base_uri": "https://localhost:8080/",
          "height": 297
        },
        "outputId": "e76f92e7-eb9f-4bec-dbcc-d24d381cd907"
      },
      "execution_count": null,
      "outputs": [
        {
          "output_type": "execute_result",
          "data": {
            "text/plain": [
              "<matplotlib.axes._subplots.AxesSubplot at 0x7fdf4e58ea30>"
            ]
          },
          "metadata": {},
          "execution_count": 33
        },
        {
          "output_type": "display_data",
          "data": {
            "text/plain": [
              "<Figure size 432x288 with 1 Axes>"
            ],
            "image/png": "[encoded data removed]"
          },
          "metadata": {
            "needs_background": "light"
          }
        }
      ]
    },
    {
      "cell_type": "markdown",
      "source": [
        "The NRMSE value decreases as number of iteration increases beacause it take more iteration to minimize the NRMSE which we also seen in above boxplot after 100 iterations onwards we see that decreases in value of NRMSE. I am not able to do for more than 2000 iteration because it takes too much time to run."
      ],
      "metadata": {
        "id": "MctSHOofo3Xy"
      }
    },
    {
      "cell_type": "code",
      "source": [
        "g_graph = pd.read_csv(\"drive/My Drive/q_13_g.csv\")                          # load the file from drive\n",
        "# seaborn.boxplot(data = g_graph, x=\"max_iter\", y=\"NRMSE\", hue=\"Type\")"
      ],
      "metadata": {
        "id": "6617CwP1N6rW"
      },
      "execution_count": null,
      "outputs": []
    },
    {
      "cell_type": "markdown",
      "source": [
        "h) Training and validation NRMSE obtained using gradient descent with eta"
      ],
      "metadata": {
        "id": "h-8hCZ2_OKFr"
      }
    },
    {
      "cell_type": "code",
      "source": [
        "num_of_samples = 1000                                                                                                # no. of samples\n",
        "feat_dimens = 10                                                                                                     # feature dimension\n",
        "eta= [1e-4,1e-3,1e-2,1e-1,1,10]\n",
        "dic_NRMSE = []                                                                                                       # initialize for NRMSE \n",
        "\n",
        "for seeed in range(0,15):\n",
        "  np.random.seed(seeed)                                                                                              # Generates pseudo-random number based on seed\n",
        "  for et in eta:\n",
        "    w_target = np.random.randint(num_of_samples, size = (feat_dimens+1,1))                                           # weight vector for target value (fixed)\n",
        "    X1 = data_matrix(num_of_samples, feat_dimens)                                                                    # Data Matrix X\n",
        "    X1_training, X1_validation = X1[:int(0.7*num_of_samples)], X1[int(0.7*num_of_samples):]                          # split X into training and validation set\n",
        "    w_train, NRMSE_train = Gradient_Descent(X1_training, w, target_t(X1_training, w_target, noise(X1_training, mu, std)), et, 1000, 1e-8, 0, 0)       # calculate training weight vector and MSE value from pseudoInverse\n",
        "\n",
        "    MSE_valid = MSE(X1_validation , w_train, target_t(X1_validation, w_target, noise(X1_validation, mu, std)))                                       # find the value of validation MSE\n",
        " \n",
        "    t_train = target_t(X1_training, w_target, noise(X1_training, mu, std))                                                 # training target vector t\n",
        "    t_valid = target_t(X1_validation, w_target, noise(X1_validation, mu, std))                                             # validation target vector t\n",
        "    NRMSE_valid = np.sqrt(MSE_valid)/np.std(t_valid)                                                                       # It should be a single number. Vaildation_RMSE/std_dev(t)\n",
        "\n",
        "    dic_NRMSE.append({'seed': seeed, 'NRMSE': NRMSE_train, 'eta': et, 'Type': \"Training Set\"})     # append the data of Training set of NRMSE\n",
        "    dic_NRMSE.append({'seed': seeed, 'NRMSE': NRMSE_valid, 'eta': et, 'Type': \"Validation Set\"})   # append the data of Validation set of NRMSE\n",
        "\n",
        "NRMSE_df_h = pd.DataFrame(dic_NRMSE)                                                               # make dataframe\n",
        "NRMSE_df_h.to_csv(\"/content/drive/My Drive/q_13_h.csv\")                                                           # save the file into drive \n",
        "# print(NRMSE_df_h)\n",
        "seaborn.boxplot(data = NRMSE_df_h , x=\"eta\", y=\"NRMSE\", hue=\"Type\")"
      ],
      "metadata": {
        "id": "7kntd8dxOJnt",
        "colab": {
          "base_uri": "https://localhost:8080/",
          "height": 296
        },
        "outputId": "36de7139-60d3-45e2-c6cb-95894cf27493"
      },
      "execution_count": null,
      "outputs": [
        {
          "output_type": "execute_result",
          "data": {
            "text/plain": [
              "<matplotlib.axes._subplots.AxesSubplot at 0x7fdbefac3490>"
            ]
          },
          "metadata": {},
          "execution_count": 76
        },
        {
          "output_type": "display_data",
          "data": {
            "text/plain": [
              "<Figure size 432x288 with 1 Axes>"
            ],
            "image/png": "[encoded data removed]"
          },
          "metadata": {
            "needs_background": "light"
          }
        }
      ]
    },
    {
      "cell_type": "markdown",
      "source": [
        "As the value of eta factor increases, NRMSE also increases and we can also see that NRMSE value median is almost same for eta value range from 0.0001 to 0.1 after that NRMSE value increases gradually.\n",
        " "
      ],
      "metadata": {
        "id": "BKnPjqXhqiGu"
      }
    },
    {
      "cell_type": "code",
      "source": [
        "h_graph = pd.read_csv(\"drive/My Drive/q_13_h.csv\")                          # load the file from drive\n",
        "# seaborn.boxplot(data = h_graph, x=\"eta\", y=\"NRMSE\", hue=\"Type\")"
      ],
      "metadata": {
        "id": "rbbiWRsCOmIT"
      },
      "execution_count": null,
      "outputs": []
    },
    {
      "cell_type": "markdown",
      "source": [
        "i) and j) Time taken to solve gradient descent with number of samples and number of variables and its breaking points"
      ],
      "metadata": {
        "id": "5MICvKV1O2WT"
      }
    },
    {
      "cell_type": "code",
      "source": [
        "samples = [100,1000,10000,100000]                                                                          # Number of samples\n",
        "feat_dim = 10                                                                                                      # feature dimension\n",
        "w_target = np.random.randint(num_of_samples, size = (feat_dim+1,1))                                                # weight vector for target value (fixed)\n",
        "dic_NRMSE = []                                                                                                     # initialize for NRMSE Q13 part (a)\n",
        "dic_time = []                                                                                                      # initialize for time Q13 part (f)\n",
        "import time\n",
        "for no_samples in samples:\n",
        "  X1 = data_matrix(no_samples, feat_dim)                                                                           # Data Matrix X\n",
        "  X1_training, X1_validation = X1[:int(0.7*no_samples)], X1[int(0.7*no_samples):]                                  # split X into training and validation set\n",
        "  start = time.time()                                                                                              # Start Time\n",
        "\n",
        "  w_train, NRMSE_train = Gradient_Descent(X1_training, w, target_t(X1_training, w_target, noise(X1_training, mu, std)), 0.01, 100, 1e-4, 0, 0)           # calculate training weight vector and MSE value from pseudoInverse\n",
        "  last = time.time()                                                                                               # End Time\n",
        "  time_taken = last - start                                                                                        # Time Taken to run pseudoIverse function\n",
        "  MSE_valid = MSE(X1_validation , w_train, target_t(X1_validation, w_target, noise(X1_validation, mu, std)))       # find the value of validation MSE\n",
        "\n",
        "  t_train = target_t(X1_training, w_target, noise(X1_training, mu, std))                                           # training target vector t\n",
        "  t_valid = target_t(X1_validation, w_target, noise(X1_validation, mu, std))                                       # validation target vector t\n",
        "  NRMSE_valid = np.sqrt(MSE_valid)/np.std(t_valid)                                                                 # It should be a single number. Vaildation_RMSE/std_dev(t)\n",
        "\n",
        "  dic_NRMSE.append({'NRMSE': NRMSE_train, 'No. of Sample': no_samples, 'Type': \"Training Set\"})     # append the data of Training set of NRMSE\n",
        "  dic_NRMSE.append({'NRMSE': NRMSE_valid, 'No. of Sample': no_samples, 'Type': \"Validation Set\"})   # append the data of Validation set of NRMSE\n",
        "  dic_time.append({'Time Taken': time_taken, 'No. of Sample': no_samples})                          # append the data of Time taken\n",
        "\n",
        "time_df_i1 = pd.DataFrame(dic_time)                                                                 # make dataframe\n",
        "time_df_i1.to_csv(\"/content/drive/My Drive/q_13_i1.csv\")                                                           # save the file into drive\n",
        "# print(time_df_i1)\n",
        "seaborn.lineplot(data = time_df_i1 , x=\"No. of Sample\", y=\"Time Taken\")"
      ],
      "metadata": {
        "id": "INBlm9rDPt-z",
        "colab": {
          "base_uri": "https://localhost:8080/",
          "height": 296
        },
        "outputId": "35a96f25-01fc-4bbb-b980-5c68d2efbbf8"
      },
      "execution_count": null,
      "outputs": [
        {
          "output_type": "execute_result",
          "data": {
            "text/plain": [
              "<matplotlib.axes._subplots.AxesSubplot at 0x7fdbef616400>"
            ]
          },
          "metadata": {},
          "execution_count": 78
        },
        {
          "output_type": "display_data",
          "data": {
            "text/plain": [
              "<Figure size 432x288 with 1 Axes>"
            ],
            "image/png": "[encoded data removed]"
          },
          "metadata": {
            "needs_background": "light"
          }
        }
      ]
    },
    {
      "cell_type": "markdown",
      "source": [
        "As the number of samples increases, it take more time to find Gradient Descent because of matrix multiplication take more time to do large data calculation in the equation of ∑[(wi.xi-ti)xi].\n",
        "Here we can observe the graph between time taken and number of samples increases linearly."
      ],
      "metadata": {
        "id": "3ONigEAuw5q5"
      }
    },
    {
      "cell_type": "code",
      "source": [
        "i1_graph = pd.read_csv(\"drive/My Drive/q_13_i1.csv\")                          # load the file from drive\n",
        "# seaborn.lineplot(data = i1_graph, x=\"No. of Sample\", y=\"Time Taken\")"
      ],
      "metadata": {
        "id": "ofQbvbcgQRaz"
      },
      "execution_count": null,
      "outputs": []
    },
    {
      "cell_type": "code",
      "source": [
        "num_of_samples = 1000                                                                                              # no. of samples\n",
        "variables = [1,2,4,8,16,32,64,128,256,512]                                                          # feature dimension\n",
        "dic_NRMSE = []                                                                                                     # initialize for NRMSE Q13 \n",
        "dic_time = []                                                                                                      # initialize for time Q13 \n",
        "import time\n",
        "for feat_dim in variables:\n",
        "  w_target = np.random.randint(num_of_samples, size = (feat_dim+1,1))                                          # weight vector for target value (fixed)\n",
        "  w = np.random.randint(num_of_samples, size = (feat_dim+1,1)) \n",
        "  X1 = data_matrix(num_of_samples, feat_dim)                                                                   # Data Matrix X\n",
        "  X1_training, X1_validation = X1[:int(0.7*num_of_samples)], X1[int(0.7*num_of_samples):]                          # split X into training and validation set\n",
        "  start = time.time()                                                                                              # Start Time\n",
        "  w_train, NRMSE_train = Gradient_Descent(X1_training, w, target_t(X1_training, w_target, noise(X1_training, mu, std)), 0.01, 100, 1e-4, 0, 0)     # calculate training weight vector and MSE value from pseudoInverse\n",
        "\n",
        "  last = time.time()                                                                                               # End Time\n",
        "  time_taken = last - start                                                                                        # Time Taken to run pseudoIverse function\n",
        "  MSE_valid = MSE(X1_validation , w_train, target_t(X1_validation, w_target, noise(X1_validation, mu, std)))       # find the value of validation MSE\n",
        "\n",
        "  t_train = target_t(X1_training, w_target, noise(X1_training, mu, std))                                           # training target vector t\n",
        "  t_valid = target_t(X1_validation, w_target, noise(X1_validation, mu, std))                                       # validation target vector t\n",
        "  NRMSE_valid = np.sqrt(MSE_valid)/np.std(t_valid)                                                                 # It should be a single number. Vaildation_RMSE/std_dev(t)\n",
        "\n",
        "  dic_NRMSE.append({'NRMSE': NRMSE_train, 'No. of Variables': feat_dim, 'Type': \"Training Set\"})     # append the data of Training set of NRMSE\n",
        "  dic_NRMSE.append({'NRMSE': NRMSE_valid, 'No. of Variables': feat_dim, 'Type': \"Validation Set\"})   # append the data of Validation set of NRMSE\n",
        "  dic_time.append({'Time Taken': time_taken, 'No. of Variables': feat_dim})                          # append the data of Time taken\n",
        "\n",
        "time_df_i2 = pd.DataFrame(dic_time)                                                                      # make dataframe\n",
        "time_df_i2.to_csv(\"/content/drive/My Drive/q_13_i2.csv\")                                                                # save the file into drive\n",
        "# print(time_df_i2)\n",
        "seaborn.lineplot(data = time_df_i2 , x=\"No. of Variables\", y=\"Time Taken\")"
      ],
      "metadata": {
        "id": "HZaB_fk2Q9eb",
        "colab": {
          "base_uri": "https://localhost:8080/",
          "height": 296
        },
        "outputId": "43046235-e56d-4416-fb25-5d4dbbb7f5da"
      },
      "execution_count": null,
      "outputs": [
        {
          "output_type": "execute_result",
          "data": {
            "text/plain": [
              "<matplotlib.axes._subplots.AxesSubplot at 0x7f2bc7c983d0>"
            ]
          },
          "metadata": {},
          "execution_count": 32
        },
        {
          "output_type": "display_data",
          "data": {
            "text/plain": [
              "<Figure size 432x288 with 1 Axes>"
            ],
            "image/png": "[encoded data removed]"
          },
          "metadata": {
            "needs_background": "light"
          }
        }
      ]
    },
    {
      "cell_type": "markdown",
      "source": [
        "As the number of variables increases, it take more time to find Gradient Descent because of matrix multiplication take more time to do large data calculation in the equation of ∑[(wi.xi-ti)xi]. Here we can observe the graph between time taken and number of samples are somewhat linear onwards 250 no.of variables."
      ],
      "metadata": {
        "id": "74mrFixsyKAN"
      }
    },
    {
      "cell_type": "code",
      "source": [
        "i2_graph = pd.read_csv(\"drive/My Drive/q_13_i2.csv\")                          # load the file from drive\n",
        "# seaborn.lineplot(data = i2_graph, x=\"No. of Variables\", y=\"Time Taken\")"
      ],
      "metadata": {
        "id": "ozxdCoU8Q-1K"
      },
      "execution_count": null,
      "outputs": []
    },
    {
      "cell_type": "markdown",
      "source": [
        "k) Training and validation NRMSE and number of nearly zero weights obtained using gradient descent with lambda2"
      ],
      "metadata": {
        "id": "TVeph98BRqHA"
      }
    },
    {
      "cell_type": "code",
      "source": [
        "# feat_dim = 10    \n",
        "num_of_samples = 1000                                                                                               # no. of samples\n",
        "feat_dimens = 10                                                                                                    # feature dimension\n",
        "lambda2 = [0.0001,0.001,0.01,0.1,1,10,100]\n",
        "dic_NRMSE = []                                                                                                      # initialize for NRMSE \n",
        "dic_weight = []\n",
        "\n",
        "for seeed in range(0,15):\n",
        "  np.random.seed(seeed)                                                                                             # Generates pseudo-random number based on seed\n",
        "  for lb2 in lambda2:\n",
        "    w_target = np.random.randint(num_of_samples, size = (feat_dimens+1,1))                                          # weight vector for target value (fixed)\n",
        "    X1 = data_matrix(num_of_samples, feat_dimens)                                                                   # Data Matrix X\n",
        "    X1_training, X1_validation = X1[:int(0.7*num_of_samples)], X1[int(0.7*num_of_samples):]                         # split X into training and validation set\n",
        "    w_train, NRMSE_train = Gradient_Descent(X1_training, w, target_t(X1_training, w_target, noise(X1_training, mu, std)), 0.1, 100, 1e-6, lb2, 0)    # calculate training weight vector and MSE value from pseudoInverse\n",
        "     # print({'seed': seeed, 'lambda2': lb2, 'weight': np.transpose(w_train)})\n",
        "    MSE_valid = MSE(X1_validation , w_train, target_t(X1_validation, w_target, noise(X1_validation, mu, std)))       # find the value of validation MSE\n",
        " \n",
        "    t_train = target_t(X1_training, w_target, noise(X1_training, mu, std))                                           # training target vector t\n",
        "    t_valid = target_t(X1_validation, w_target, noise(X1_validation, mu, std))                                       # validation target vector t\n",
        "    NRMSE_valid = np.sqrt(MSE_valid)/np.std(t_valid)                                                                 # It should be a single number. Vaildation_RMSE/std_dev(t)\n",
        "\n",
        "    dic_NRMSE.append({'seed': seeed, 'NRMSE': NRMSE_train, 'Lambda2': lb2, 'Type': \"Training Set\"})     # append the data of Training set of NRMSE\n",
        "    dic_NRMSE.append({'seed': seeed, 'NRMSE': NRMSE_valid, 'Lambda2': lb2, 'Type': \"Validation Set\"})   # append the data of Validation set of NRMSE\n",
        "    dic_weight.append({'seed': seeed, 'wieght vector': w_train, 'Lambda2': lb2})\n",
        "\n",
        "NRMSE_df_k = pd.DataFrame(dic_NRMSE)                                                                     # make dataframe\n",
        "weight_k = pd.DataFrame(dic_weight)\n",
        "weight_k.to_csv(\"/content/drive/My Drive/q_13_k_1.csv\")\n",
        "NRMSE_df_k.to_csv(\"/content/drive/My Drive/q_13_k.csv\")                                                                 # save the file into drive\n",
        "# print(NRMSE_df_k)\n",
        "seaborn.boxplot(data = NRMSE_df_k , x=\"Lambda2\", y=\"NRMSE\", hue=\"Type\")"
      ],
      "metadata": {
        "id": "YUW5xy9jU3zx",
        "colab": {
          "base_uri": "https://localhost:8080/",
          "height": 296
        },
        "outputId": "079c76e5-eb7c-4449-add6-266ba08195ca"
      },
      "execution_count": 29,
      "outputs": [
        {
          "output_type": "execute_result",
          "data": {
            "text/plain": [
              "<matplotlib.axes._subplots.AxesSubplot at 0x7f4bbe191d00>"
            ]
          },
          "metadata": {},
          "execution_count": 29
        },
        {
          "output_type": "display_data",
          "data": {
            "text/plain": [
              "<Figure size 432x288 with 1 Axes>"
            ],
            "image/png": "[encoded data removed]"
          },
          "metadata": {
            "needs_background": "light"
          }
        }
      ]
    },
    {
      "cell_type": "markdown",
      "source": [
        "As the value of lambda increases, first NRMSE value increases and then decreases and here, we get the optimal value of lambda is 0.1 at which error is 0.413894167316492 \n",
        "\n",
        "As λ increases(λ ≥ 100) the weights start becoming ≈0 ,The targets predicted ≈0 hence validation rmse saturates."
      ],
      "metadata": {
        "id": "t5hFBbWkDLys"
      }
    },
    {
      "cell_type": "code",
      "source": [
        "k_graph = pd.read_csv(\"drive/My Drive/q_13_k.csv\")                          # load the file from drive\n",
        "# seaborn.boxplot(data = k_graph, x=\"Lambda2\", y=\"NRMSE\", hue=\"Type\")"
      ],
      "metadata": {
        "id": "igHc3I2NkXUJ"
      },
      "execution_count": null,
      "outputs": []
    },
    {
      "cell_type": "markdown",
      "source": [
        "l) Training and validation NRMSE and number of nearly zero weights obtained using gradient descent with lambda1"
      ],
      "metadata": {
        "id": "w5h1sUBMWM73"
      }
    },
    {
      "cell_type": "code",
      "source": [
        "num_of_samples = 1000                                                                                                # no. of samples\n",
        "feat_dimens = 10                                                                                                     # feature dimension\n",
        "lambda1 = [0.0001,0.001,0.01,0.1,1,10,100]\n",
        "dic_NRMSE = []                                                                                                       # initialize for NRMSE \n",
        "dic_weight = []\n",
        "for seeed in range(0,15):\n",
        "  np.random.seed(seeed)                                                                                              # Generates pseudo-random number based on seed\n",
        "  for lb1 in lambda1:\n",
        "    w_target = np.random.randint(num_of_samples, size = (feat_dimens+1,1))                                           # weight vector for target value (fixed)\n",
        "    X1 = data_matrix(num_of_samples, feat_dimens)                                                                    # Data Matrix X\n",
        "    X1_training, X1_validation = X1[:int(0.7*num_of_samples)], X1[int(0.7*num_of_samples):]                          # split X into training and validation set\n",
        "    w_train, NRMSE_train = Gradient_Descent(X1_training, w, target_t(X1_training, w_target, noise(X1_training, mu, std)), 0.1, 100, 1e-6, 0, lb1)           # calculate training weight vector and MSE value from pseudoInverse\n",
        "    # print({'seed': seeed, 'lambda1': lb1, 'weight': np.transpose(w_train)})\n",
        "    MSE_valid = MSE(X1_validation , w_train, target_t(X1_validation, w_target, noise(X1_validation, mu, std)))       # find the value of validation MSE\n",
        " \n",
        "    t_train = target_t(X1_training, w_target, noise(X1_training, mu, std))                                           # training target vector t\n",
        "    t_valid = target_t(X1_validation, w_target, noise(X1_validation, mu, std))                                       # validation target vector t\n",
        "    NRMSE_valid = np.sqrt(MSE_valid)/np.std(t_valid)                                                                 # It should be a single number. Vaildation_RMSE/std_dev(t)\n",
        "\n",
        "    dic_NRMSE.append({'seed': seeed, 'NRMSE': NRMSE_train, 'Lambda1': lb1, 'Type': \"Training Set\"})     # append the data of Training set of NRMSE\n",
        "    dic_NRMSE.append({'seed': seeed, 'NRMSE': NRMSE_valid, 'Lambda1': lb1, 'Type': \"Validation Set\"})   # append the data of Validation set of NRMSE\n",
        "    dic_weight.append({'seed': seeed, 'wieght vector': w_train, 'Lambda2': lb1})\n",
        "\n",
        "NRMSE_df_l = pd.DataFrame(dic_NRMSE)                                                                     # make dataframe\n",
        "weight_l = pd.DataFrame(dic_weight)\n",
        "weight_l.to_csv(\"/content/drive/My Drive/q_13_l_1.csv\")\n",
        "NRMSE_df_l.to_csv(\"/content/drive/My Drive/q_13_l.csv\")                                                                 # save the file into drive\n",
        "# print(NRMSE_df_l)\n",
        "seaborn.boxplot(data = NRMSE_df_l , x=\"Lambda1\", y=\"NRMSE\", hue=\"Type\")"
      ],
      "metadata": {
        "id": "XzKgYvQ5WOYe",
        "colab": {
          "base_uri": "https://localhost:8080/",
          "height": 1000
        },
        "outputId": "1a1ab961-2065-45f4-f6ac-386df4e07749"
      },
      "execution_count": 38,
      "outputs": [
        {
          "output_type": "stream",
          "name": "stdout",
          "text": [
            "{'seed': 0, 'lambda1': 0.0001, 'weight': array([[368.98191958, 972.10491585,  31.44403524, 788.3326474 ,\n",
            "         94.89719699, 855.31156163, 988.63282894, 328.4079687 ,\n",
            "        342.00302599, 517.66203448, 647.58802312]])}\n",
            "{'seed': 0, 'lambda1': 0.001, 'weight': array([[369.03088953, 968.66885475,  30.84383942, 785.56214135,\n",
            "         92.66990826, 860.65374525, 987.72968095, 323.75471741,\n",
            "        347.5521136 , 512.40318338, 641.25569829]])}\n",
            "{'seed': 0, 'lambda1': 0.01, 'weight': array([[368.96902974, 972.7646833 ,  31.32087064, 789.84792677,\n",
            "         88.74377237, 859.79729441, 988.81869966, 318.59773673,\n",
            "        354.55440441, 512.20848186, 647.24560642]])}\n",
            "{'seed': 0, 'lambda1': 0.1, 'weight': array([[368.99196887, 970.48618853,  38.343618  , 788.21407429,\n",
            "         91.00270227, 854.4007635 , 986.7850515 , 319.67973076,\n",
            "        347.04381189, 511.04409519, 641.19000161]])}\n",
            "{'seed': 0, 'lambda1': 1, 'weight': array([[368.99629467, 963.25125696,  22.78492411, 787.7636231 ,\n",
            "         83.98515996, 846.18209778, 978.67419227, 311.50358915,\n",
            "        337.47778308, 497.26326395, 640.04264557]])}\n",
            "{'seed': 0, 'lambda1': 10, 'weight': array([[369.00457908, 942.12087557,   2.94845625, 760.24677944,\n",
            "         61.99354221, 828.4636353 , 956.80348034, 294.59380271,\n",
            "        317.90468979, 481.76829292, 618.32663491]])}\n",
            "{'seed': 0, 'lambda1': 100, 'weight': array([[368.96011103,  -8.98790493,   4.17567861,  -6.88377768,\n",
            "         -6.47256706,  -1.09973626,  -9.81831353,   3.55080468,\n",
            "          9.55591026,  -7.97924248,   8.32317815]])}\n",
            "{'seed': 1, 'lambda1': 0.0001, 'weight': array([[368.9999989 , 971.99230943,  32.00108486, 789.99880767,\n",
            "         91.97522903, 855.98815515, 987.98896048, 324.03425658,\n",
            "        347.94303072, 511.97956792, 647.93496714]])}\n",
            "{'seed': 1, 'lambda1': 0.001, 'weight': array([[368.99157508, 972.09802775,  33.76638293, 782.9149842 ,\n",
            "         91.80265317, 856.41710589, 990.86788321, 324.00393542,\n",
            "        347.08930872, 512.67326831, 654.07265571]])}\n",
            "{'seed': 1, 'lambda1': 0.01, 'weight': array([[369.00016077, 971.98374899,  31.96327945, 790.03278021,\n",
            "         92.07369526, 855.97073282, 988.01523228, 324.023819  ,\n",
            "        347.99985021, 512.00276282, 647.99019357]])}\n",
            "{'seed': 1, 'lambda1': 0.1, 'weight': array([[368.96014675, 972.72575027,  29.48491124, 780.59455071,\n",
            "         90.96959757, 855.00486644, 983.98229889, 325.00096302,\n",
            "        347.177244  , 512.43159372, 649.98000539]])}\n",
            "{'seed': 1, 'lambda1': 1, 'weight': array([[368.9957089 , 965.59665549,  22.39016994, 785.4060161 ,\n",
            "         85.25791104, 845.54110431, 977.87818996, 314.58302551,\n",
            "        338.10110307, 508.63218794, 639.58452889]])}\n",
            "{'seed': 1, 'lambda1': 10, 'weight': array([[ 3.69038663e+02,  8.75190160e+02,  6.18985953e-01,\n",
            "         6.97685394e+02, -1.72644075e-01,  7.56094983e+02,\n",
            "         8.86639878e+02,  2.25623707e+02,  2.47910331e+02,\n",
            "         4.12823324e+02,  5.51902470e+02]])}\n",
            "{'seed': 1, 'lambda1': 100, 'weight': array([[ 3.68998859e+02, -8.08215322e+00, -5.17979521e-02,\n",
            "         7.81993535e+00, -8.11398573e+00, -4.04213225e+00,\n",
            "         4.77630551e+00,  6.18583185e+00,  7.51344468e+00,\n",
            "        -8.40868750e+00, -9.92417015e+00]])}\n",
            "{'seed': 2, 'lambda1': 0.0001, 'weight': array([[368.91518708, 971.56519745,  28.66023892, 785.25702658,\n",
            "         95.26448927, 862.1701059 , 991.26975514, 324.02023686,\n",
            "        348.26621174, 511.7040881 , 650.56177513]])}\n",
            "{'seed': 2, 'lambda1': 0.001, 'weight': array([[369.0494684 , 976.1692398 ,  29.80311639, 788.39870499,\n",
            "         89.82771779, 848.49373355, 987.83857185, 327.46367346,\n",
            "        347.77095447, 511.24299522, 649.27521425]])}\n",
            "{'seed': 2, 'lambda1': 0.01, 'weight': array([[368.98774665, 971.28885415,  31.95234442, 792.8615519 ,\n",
            "         93.45337659, 857.47366985, 981.63641022, 317.27881313,\n",
            "        347.8078877 , 510.56640818, 648.95038872]])}\n",
            "{'seed': 2, 'lambda1': 0.1, 'weight': array([[369.00068001, 964.17637128,  31.26591097, 787.95502734,\n",
            "         90.6088375 , 855.22380876, 986.60715475, 322.37808299,\n",
            "        340.0502732 , 510.95609121, 648.79728073]])}\n",
            "{'seed': 2, 'lambda1': 1, 'weight': array([[369.01758059, 960.72004895,  23.42623941, 780.86464774,\n",
            "         78.87752843, 849.19775822, 979.96268982, 318.18927154,\n",
            "        342.64408629, 507.68976813, 638.50869149]])}\n",
            "{'seed': 2, 'lambda1': 10, 'weight': array([[ 3.69015968e+02,  8.71839409e+02, -7.40446187e-01,\n",
            "         6.96176843e+02,  7.51146505e-02,  7.53158292e+02,\n",
            "         8.87003961e+02,  2.24136552e+02,  2.46231821e+02,\n",
            "         4.05626544e+02,  5.46922810e+02]])}\n",
            "{'seed': 2, 'lambda1': 100, 'weight': array([[369.05251101,  -5.20259956,  -4.98805984,  -8.78439986,\n",
            "         -3.89061329,  -8.82725967,   7.20103919,   5.94686617,\n",
            "          4.15462616,  -6.80709402,  -8.28339293]])}\n",
            "{'seed': 3, 'lambda1': 0.0001, 'weight': array([[369.00105104, 970.542575  ,  30.5534246 , 790.99502302,\n",
            "         89.25375505, 855.32397711, 992.34032887, 327.31082108,\n",
            "        346.71597004, 519.41814873, 647.45164903]])}\n",
            "{'seed': 3, 'lambda1': 0.001, 'weight': array([[368.88886468, 971.67789557,  29.34715803, 790.91144455,\n",
            "         90.77433001, 856.2900725 , 978.62259075, 324.15262571,\n",
            "        348.04507788, 513.49606656, 648.6549307 ]])}\n",
            "{'seed': 3, 'lambda1': 0.01, 'weight': array([[368.98794968, 971.84005024,  31.95394283, 796.21669032,\n",
            "         94.90916235, 855.71947119, 988.96668559, 325.87976558,\n",
            "        354.22743325, 512.45119576, 645.53203569]])}\n",
            "{'seed': 3, 'lambda1': 0.1, 'weight': array([[369.07680681, 972.571347  ,  33.79463551, 789.46559962,\n",
            "         85.39367792, 854.01223604, 991.74163665, 323.50184443,\n",
            "        341.50376754, 513.03583228, 646.94422165]])}\n",
            "{'seed': 3, 'lambda1': 1, 'weight': array([[368.98565547, 959.94900003,  24.112117  , 776.37060078,\n",
            "         83.62674206, 846.39768184, 977.40315071, 308.25372523,\n",
            "        338.50081541, 504.05072265, 631.87543801]])}\n",
            "{'seed': 3, 'lambda1': 10, 'weight': array([[ 3.69001848e+02,  8.75637064e+02, -4.99998860e-01,\n",
            "         6.90091226e+02,  4.50832598e-01,  7.58770528e+02,\n",
            "         8.87272810e+02,  2.18481841e+02,  2.47636101e+02,\n",
            "         4.13743887e+02,  5.47009958e+02]])}\n",
            "{'seed': 3, 'lambda1': 100, 'weight': array([[368.89372585,  -4.3995525 ,  -6.97628914,  -5.25229684,\n",
            "         -8.32943161,  -6.5859318 ,  -9.34729225,  -1.99470833,\n",
            "          6.02211846,  -7.9567719 ,   8.0817614 ]])}\n",
            "{'seed': 4, 'lambda1': 0.0001, 'weight': array([[369.01794998, 968.43704883,  28.05100625, 791.79084303,\n",
            "         92.40867122, 857.45951228, 980.16163107, 322.45278466,\n",
            "        347.13603693, 511.67663607, 646.7539707 ]])}\n",
            "{'seed': 4, 'lambda1': 0.001, 'weight': array([[368.95681794, 969.58491386,  32.03745179, 790.17615832,\n",
            "         95.61742473, 849.00121182, 991.01138307, 326.54045047,\n",
            "        349.6963009 , 512.60111956, 651.63087263]])}\n",
            "{'seed': 4, 'lambda1': 0.01, 'weight': array([[369.01618657, 970.75317633,  40.76102522, 788.70285862,\n",
            "         90.77747711, 855.97224599, 988.47322167, 324.97531004,\n",
            "        345.61553419, 508.68181294, 647.26172773]])}\n",
            "{'seed': 4, 'lambda1': 0.1, 'weight': array([[368.96262864, 966.20893326,  36.55213435, 789.63423787,\n",
            "         96.59768278, 856.26627468, 985.92970547, 326.13061929,\n",
            "        346.937708  , 509.73176036, 646.43475132]])}\n",
            "{'seed': 4, 'lambda1': 1, 'weight': array([[368.85614872, 955.30260628,  18.87068086, 780.4483077 ,\n",
            "         82.58115503, 846.84499746, 974.27850645, 311.76506979,\n",
            "        336.6399167 , 497.20996896, 637.37073334]])}\n",
            "{'seed': 4, 'lambda1': 10, 'weight': array([[3.68970079e+02, 8.71318121e+02, 2.78562869e-01, 6.90996060e+02,\n",
            "        4.24219577e-02, 7.54109506e+02, 8.87959177e+02, 2.20246251e+02,\n",
            "        2.48663651e+02, 4.18972627e+02, 5.53624679e+02]])}\n",
            "{'seed': 4, 'lambda1': 100, 'weight': array([[368.92387469,  -8.6775201 ,  -4.20476978,   6.01836959,\n",
            "         -8.47665343,  -5.28763419,   8.18722183,   3.42557047,\n",
            "          4.07031444,   8.3291575 ,  -6.82467171]])}\n",
            "{'seed': 5, 'lambda1': 0.0001, 'weight': array([[369.16127633, 965.96739702,  29.53182807, 792.17007143,\n",
            "         92.46883005, 861.67954551, 991.02242705, 320.9263542 ,\n",
            "        347.91752977, 513.30588728, 648.01111477]])}\n",
            "{'seed': 5, 'lambda1': 0.001, 'weight': array([[368.97733102, 967.27033598,  36.84527187, 790.01191641,\n",
            "         93.98519466, 852.1693106 , 988.15282998, 323.87773392,\n",
            "        345.60706365, 515.08092521, 643.48441538]])}\n",
            "{'seed': 5, 'lambda1': 0.01, 'weight': array([[369.09513015, 973.3637137 ,  33.57471124, 787.46110478,\n",
            "         92.5991944 , 854.1876684 , 985.21153042, 318.46520886,\n",
            "        353.14691828, 510.38729023, 643.5306965 ]])}\n",
            "{'seed': 5, 'lambda1': 0.1, 'weight': array([[369.07788018, 971.6904381 ,  30.90211376, 790.87716175,\n",
            "         90.80285916, 856.71273003, 979.98417029, 322.87348412,\n",
            "        352.14230357, 508.9439103 , 643.38033   ]])}\n",
            "{'seed': 5, 'lambda1': 1, 'weight': array([[369.10242253, 955.89705195,  20.61951805, 783.03542913,\n",
            "         80.4389065 , 846.01230645, 977.19839381, 317.48209417,\n",
            "        343.48875721, 503.4970988 , 635.98989376]])}\n",
            "{'seed': 5, 'lambda1': 10, 'weight': array([[ 3.69029760e+02,  8.66217636e+02,  2.95193189e-01,\n",
            "         6.95243730e+02, -9.32774653e-01,  7.53963778e+02,\n",
            "         8.90888007e+02,  2.19536216e+02,  2.49170567e+02,\n",
            "         4.12594563e+02,  5.48417452e+02]])}\n",
            "{'seed': 5, 'lambda1': 100, 'weight': array([[369.00040257,  -7.66691004,  -7.61983959,  -7.22831981,\n",
            "         -2.12933129,  -5.6778758 ,   7.29813401,   3.07590279,\n",
            "          8.10837257,   5.84004536,   7.39002135]])}\n",
            "{'seed': 6, 'lambda1': 0.0001, 'weight': array([[369.00218588, 971.00605176,  30.48866404, 791.27256392,\n",
            "         93.86197205, 859.40029561, 990.39311271, 325.85646627,\n",
            "        341.4872858 , 510.40006848, 653.09117867]])}\n",
            "{'seed': 6, 'lambda1': 0.001, 'weight': array([[368.95694189, 970.99354773,  30.84077255, 782.95201287,\n",
            "         85.83299068, 858.48870642, 988.14800928, 323.80696765,\n",
            "        349.22436683, 513.5396451 , 648.11301117]])}\n",
            "{'seed': 6, 'lambda1': 0.01, 'weight': array([[368.99707345, 972.74688184,  27.92937864, 789.65936721,\n",
            "         94.67766089, 855.8643522 , 987.78401172, 324.17159448,\n",
            "        348.61257477, 511.06876168, 648.57145355]])}\n",
            "{'seed': 6, 'lambda1': 0.1, 'weight': array([[369.07173962, 972.27169973,  32.63669167, 791.7552334 ,\n",
            "         91.0041322 , 857.53688032, 986.83550594, 321.99383796,\n",
            "        344.69476799, 504.73018099, 653.00058431]])}\n",
            "{'seed': 6, 'lambda1': 1, 'weight': array([[369.01958572, 960.71076323,  16.87394535, 777.7102512 ,\n",
            "         84.66080048, 846.12306232, 985.53595434, 313.88279162,\n",
            "        337.76418705, 501.8819006 , 636.31232072]])}\n",
            "{'seed': 6, 'lambda1': 10, 'weight': array([[ 3.69054320e+02,  8.72983945e+02, -5.04230002e-01,\n",
            "         6.90708676e+02,  6.15956173e-01,  7.55897108e+02,\n",
            "         8.88729318e+02,  2.23082853e+02,  2.54880040e+02,\n",
            "         4.11779265e+02,  5.42025438e+02]])}\n",
            "{'seed': 6, 'lambda1': 100, 'weight': array([[ 3.68965012e+02, -8.52351131e+00,  8.11709294e-02,\n",
            "        -9.95119080e+00, -7.98623698e+00, -4.32999083e+00,\n",
            "         9.52050765e+00,  3.65339156e+00, -9.14763921e+00,\n",
            "        -7.15338442e+00,  5.94475287e+00]])}\n",
            "{'seed': 7, 'lambda1': 0.0001, 'weight': array([[368.94236057, 979.05379678,  31.21390399, 791.10540124,\n",
            "         90.89191068, 856.42246199, 988.03154179, 322.93368177,\n",
            "        350.99964979, 517.88485621, 649.48122742]])}\n",
            "{'seed': 7, 'lambda1': 0.001, 'weight': array([[368.90405397, 964.90529043,  30.93546583, 789.94302361,\n",
            "         88.17116484, 856.06612144, 989.83566695, 320.26065912,\n",
            "        347.01672904, 511.67280704, 651.95628708]])}\n",
            "{'seed': 7, 'lambda1': 0.01, 'weight': array([[368.93426467, 979.26992979,  31.85637183, 787.91817319,\n",
            "         92.60957439, 855.11575266, 990.25920116, 325.99037151,\n",
            "        346.73014122, 506.61830956, 646.70369875]])}\n",
            "{'seed': 7, 'lambda1': 0.1, 'weight': array([[369.05173711, 973.21069943,  37.41626842, 789.18966858,\n",
            "         91.47900471, 858.81598923, 987.19360302, 328.83130992,\n",
            "        347.30793697, 511.07252523, 649.22992192]])}\n",
            "{'seed': 7, 'lambda1': 1, 'weight': array([[368.99676332, 964.06717235,  22.00009171, 781.48571258,\n",
            "         88.12841317, 848.46189528, 975.80008071, 319.98512269,\n",
            "        341.01365757, 501.62594385, 638.1268182 ]])}\n",
            "{'seed': 7, 'lambda1': 10, 'weight': array([[3.69049153e+02, 8.73407100e+02, 8.36234807e-01, 6.91140782e+02,\n",
            "        6.81405813e-01, 7.54149719e+02, 8.89972770e+02, 2.28217601e+02,\n",
            "        2.53302537e+02, 4.07096173e+02, 5.52005987e+02]])}\n",
            "{'seed': 7, 'lambda1': 100, 'weight': array([[369.01009849,  -7.67231006,  -8.30942643,  -7.31468897,\n",
            "         -6.63437003,   3.37971686,  -7.98551941,   4.62614103,\n",
            "          9.93072941,  -8.97878261,   5.81653712]])}\n",
            "{'seed': 8, 'lambda1': 0.0001, 'weight': array([[369.14696578, 972.93438693,  29.71687137, 788.91549817,\n",
            "         91.88792774, 856.66450199, 986.78984536, 324.30877741,\n",
            "        353.47313514, 512.01674594, 655.79268487]])}\n",
            "{'seed': 8, 'lambda1': 0.001, 'weight': array([[369.02875124, 973.05912859,  29.75897891, 789.77150981,\n",
            "         91.89025674, 854.4650888 , 984.10908012, 320.7974382 ,\n",
            "        347.56589315, 510.2345816 , 655.9259748 ]])}\n",
            "{'seed': 8, 'lambda1': 0.01, 'weight': array([[368.99067478, 973.73451549,  30.28620564, 792.94659918,\n",
            "         96.18034723, 862.4554757 , 990.02045807, 323.87023698,\n",
            "        346.62750717, 507.74286684, 647.66697199]])}\n",
            "{'seed': 8, 'lambda1': 0.1, 'weight': array([[368.76893517, 975.56493433,  39.1653594 , 788.89155707,\n",
            "         88.54388535, 854.91068168, 988.7458    , 321.73278856,\n",
            "        347.10507818, 509.74568876, 646.61991723]])}\n",
            "{'seed': 8, 'lambda1': 1, 'weight': array([[369.01127869, 964.59198369,  25.36029024, 782.09229959,\n",
            "         84.60263054, 844.12566987, 985.84019023, 316.21069026,\n",
            "        340.46261776, 501.76647748, 640.83747492]])}\n",
            "{'seed': 8, 'lambda1': 10, 'weight': array([[3.68999860e+02, 9.34293054e+02, 4.69165089e-01, 7.49929551e+02,\n",
            "        5.39443849e+01, 8.17997954e+02, 9.50376129e+02, 2.87422716e+02,\n",
            "        3.12309553e+02, 4.73595816e+02, 6.10215220e+02]])}\n",
            "{'seed': 8, 'lambda1': 100, 'weight': array([[369.02744047,  -6.37101089,  -2.91296528,   9.04525083,\n",
            "          7.25214784,  -3.03904543,   9.14446905,   6.41984827,\n",
            "          8.04654726,  -9.9382512 ,   6.75479737]])}\n",
            "{'seed': 9, 'lambda1': 0.0001, 'weight': array([[368.97518617, 973.02928388,  32.22677587, 793.95851642,\n",
            "         99.86272949, 854.81181949, 990.96847921, 324.40937941,\n",
            "        348.08266758, 515.30027484, 647.73668806]])}\n",
            "{'seed': 9, 'lambda1': 0.001, 'weight': array([[368.96710034, 972.51147585,  31.59338946, 793.25320663,\n",
            "         91.99793146, 856.1384961 , 988.58301225, 314.64643369,\n",
            "        347.15088256, 511.36931992, 647.59539244]])}\n",
            "{'seed': 9, 'lambda1': 0.01, 'weight': array([[369.00001159, 972.00305353,  32.0083924 , 790.00483185,\n",
            "         92.01597829, 856.05213273, 987.9338796 , 323.97372223,\n",
            "        347.98605791, 512.00011354, 648.04025072]])}\n",
            "{'seed': 9, 'lambda1': 0.1, 'weight': array([[369.04000935, 972.11100622,  31.27167332, 782.74499961,\n",
            "         90.34283717, 859.85194073, 989.34217302, 323.23371929,\n",
            "        342.03248582, 512.94202843, 648.26538171]])}\n",
            "{'seed': 9, 'lambda1': 1, 'weight': array([[368.95139316, 962.43717211,  20.6864646 , 776.78378847,\n",
            "         81.44798453, 851.43042592, 973.63450812, 317.42923329,\n",
            "        342.69422274, 502.82175802, 640.10040403]])}\n",
            "{'seed': 9, 'lambda1': 10, 'weight': array([[ 3.69093235e+02,  8.74579420e+02, -7.17128175e-01,\n",
            "         6.89991182e+02, -3.75735483e-01,  7.55912898e+02,\n",
            "         8.89270372e+02,  2.27567257e+02,  2.54411365e+02,\n",
            "         4.11956978e+02,  5.53781361e+02]])}\n",
            "{'seed': 9, 'lambda1': 100, 'weight': array([[368.95925725,  -8.15252556,   9.83831336,  -9.97418693,\n",
            "         -8.16076357,   9.86871136,   9.4013746 ,  -2.30941071,\n",
            "          6.61495909,  -8.28510095,   8.21431927]])}\n",
            "{'seed': 10, 'lambda1': 0.0001, 'weight': array([[368.94579395, 972.40015566,  33.12139607, 787.06926841,\n",
            "         93.06705803, 859.92128935, 982.3932585 , 328.88873364,\n",
            "        348.08081876, 515.96474212, 646.44979633]])}\n",
            "{'seed': 10, 'lambda1': 0.001, 'weight': array([[369.0345307 , 975.19454424,  33.58949813, 790.72213554,\n",
            "         89.87670024, 854.7541428 , 988.48673875, 317.27419085,\n",
            "        349.67021308, 511.14148441, 642.35532837]])}\n",
            "{'seed': 10, 'lambda1': 0.01, 'weight': array([[368.97724338, 970.11264715,  26.23573121, 796.74540544,\n",
            "         90.0344671 , 854.72727315, 987.52918109, 327.37076973,\n",
            "        347.40828052, 512.46197567, 647.38656018]])}\n",
            "{'seed': 10, 'lambda1': 0.1, 'weight': array([[368.99585973, 966.63034119,  35.40279129, 789.5423464 ,\n",
            "         93.85775195, 860.60501107, 984.22671938, 323.91764013,\n",
            "        350.51529735, 511.78359507, 647.37302889]])}\n",
            "{'seed': 10, 'lambda1': 1, 'weight': array([[368.99079769, 963.55368025,  24.37242683, 782.40699652,\n",
            "         81.93525272, 853.17998997, 976.91362358, 313.28196856,\n",
            "        338.50041963, 499.78294361, 643.26706806]])}\n",
            "{'seed': 10, 'lambda1': 10, 'weight': array([[368.99997128, 964.32919073,  23.89027456, 781.94405064,\n",
            "         83.537568  , 848.04874198, 979.47608752, 315.87815181,\n",
            "        340.03609266, 503.99648945, 640.09794137]])}\n",
            "{'seed': 10, 'lambda1': 100, 'weight': array([[368.92590082,  -7.64610461,  -7.62279272,   6.02683657,\n",
            "         -7.72188729,  -2.07000854,   7.43550225,   3.35716711,\n",
            "          5.07702434,   5.22009985,  -7.2481008 ]])}\n",
            "{'seed': 11, 'lambda1': 0.0001, 'weight': array([[368.99658111, 972.98377796,  24.27516381, 787.55218401,\n",
            "         93.02032674, 854.94559941, 985.8382115 , 320.7686909 ,\n",
            "        351.74726834, 510.56430688, 648.14225794]])}\n",
            "{'seed': 11, 'lambda1': 0.001, 'weight': array([[369.00403243, 971.74316818,  28.85835963, 790.20605364,\n",
            "         83.5598818 , 855.66612559, 988.51317154, 323.01050457,\n",
            "        352.16721229, 511.52024292, 647.88940282]])}\n",
            "{'seed': 11, 'lambda1': 0.01, 'weight': array([[369.03787648, 965.21790896,  36.43997707, 787.43605396,\n",
            "         90.69861154, 855.75818377, 986.37788178, 325.05626936,\n",
            "        352.7411701 , 512.2259279 , 647.82834695]])}\n",
            "{'seed': 11, 'lambda1': 0.1, 'weight': array([[369.01952508, 980.02872901,  29.75564184, 788.05443347,\n",
            "         93.38812576, 856.17358359, 987.82343747, 324.83044435,\n",
            "        349.21741469, 511.08950751, 647.0710244 ]])}\n",
            "{'seed': 11, 'lambda1': 1, 'weight': array([[369.02892852, 965.63815169,  27.91413729, 779.64354108,\n",
            "         81.83209107, 849.23967574, 982.11895715, 317.8271958 ,\n",
            "        340.16098063, 504.20035477, 637.92902074]])}\n",
            "{'seed': 11, 'lambda1': 10, 'weight': array([[ 3.68979480e+02,  8.69882156e+02, -2.99151061e-01,\n",
            "         6.92588882e+02,  1.75667762e-01,  7.56759338e+02,\n",
            "         8.92372616e+02,  2.17083495e+02,  2.46090988e+02,\n",
            "         4.11975233e+02,  5.44587935e+02]])}\n",
            "{'seed': 11, 'lambda1': 100, 'weight': array([[369.02807903,  -7.75599702,  -8.84772321,   9.24703433,\n",
            "         -5.76371187,  -3.79331448,  -2.96245089,   4.70256878,\n",
            "          5.88908226,  -6.66870309,   7.9773553 ]])}\n",
            "{'seed': 12, 'lambda1': 0.0001, 'weight': array([[368.95006998, 976.46589124,  36.24183658, 792.37616075,\n",
            "         93.49887343, 850.80950868, 986.96147386, 323.90019665,\n",
            "        349.44202214, 512.62626049, 652.8620007 ]])}\n",
            "{'seed': 12, 'lambda1': 0.001, 'weight': array([[369.05307232, 972.23719058,  27.20691579, 788.71688957,\n",
            "         92.072417  , 858.72572304, 988.96032127, 331.38568996,\n",
            "        351.18633111, 511.09790627, 649.12844743]])}\n",
            "{'seed': 12, 'lambda1': 0.01, 'weight': array([[369.03913184, 970.97188993,  35.90591719, 787.63982426,\n",
            "         90.1875461 , 853.11546466, 989.47320392, 316.32036612,\n",
            "        347.05361431, 512.98985616, 650.23767922]])}\n",
            "{'seed': 12, 'lambda1': 0.1, 'weight': array([[369.01152181, 968.39010606,  32.15365862, 788.87330395,\n",
            "         90.2870405 , 850.69723707, 980.41691464, 328.32442172,\n",
            "        347.29829544, 511.86394297, 646.45535519]])}\n",
            "{'seed': 12, 'lambda1': 1, 'weight': array([[369.06096058, 962.89324755,  20.02817424, 774.12545118,\n",
            "         85.31022318, 847.30262017, 977.7745181 , 308.07017755,\n",
            "        337.1034799 , 498.53777277, 637.63108755]])}\n",
            "{'seed': 12, 'lambda1': 10, 'weight': array([[ 3.68999795e+02,  8.62833478e+02, -9.84158713e-01,\n",
            "         6.90163869e+02,  6.84274671e-01,  7.55404559e+02,\n",
            "         8.88367515e+02,  2.22921299e+02,  2.47360053e+02,\n",
            "         4.13778741e+02,  5.49116376e+02]])}\n",
            "{'seed': 12, 'lambda1': 100, 'weight': array([[369.03773672,  -7.35479535,   8.75217945,  -9.09778318,\n",
            "         -9.55221209,  -4.67812047,   5.17038105,   3.90958824,\n",
            "          8.14874759,   7.229663  ,  -8.57873542]])}\n",
            "{'seed': 13, 'lambda1': 0.0001, 'weight': array([[368.99995376, 971.98734916,  32.07814652, 790.05234129,\n",
            "         91.99895424, 855.99171297, 988.00992758, 323.99079112,\n",
            "        347.97324313, 512.00178369, 648.00441034]])}\n",
            "{'seed': 13, 'lambda1': 0.001, 'weight': array([[368.9669392 , 970.25653063,  30.69343423, 791.42163503,\n",
            "         92.52244758, 864.84025986, 988.5128612 , 325.29670181,\n",
            "        349.09913732, 511.86016327, 644.60995788]])}\n",
            "{'seed': 13, 'lambda1': 0.01, 'weight': array([[368.99595017, 972.29742543,  32.36602573, 789.812999  ,\n",
            "         91.48188118, 847.48126061, 990.28510096, 323.80934259,\n",
            "        348.1341841 , 514.70715595, 651.7646218 ]])}\n",
            "{'seed': 13, 'lambda1': 0.1, 'weight': array([[369.02660746, 972.51004982,  30.16225884, 788.40274201,\n",
            "        100.73168734, 855.90577185, 987.49519621, 323.74905452,\n",
            "        346.91317103, 511.20019434, 647.52939242]])}\n",
            "{'seed': 13, 'lambda1': 1, 'weight': array([[369.00532773, 959.51214187,  19.68142548, 779.93622345,\n",
            "         81.93391119, 844.72326055, 986.68127499, 316.15577653,\n",
            "        337.52897172, 499.54890636, 637.25881684]])}\n",
            "{'seed': 13, 'lambda1': 10, 'weight': array([[ 3.68996414e+02,  8.71139243e+02, -3.19605297e-02,\n",
            "         6.84053045e+02, -1.98281648e-02,  7.57359214e+02,\n",
            "         8.80672394e+02,  2.23917117e+02,  2.47890315e+02,\n",
            "         4.13013477e+02,  5.49758018e+02]])}\n",
            "{'seed': 13, 'lambda1': 100, 'weight': array([[368.99582769,   9.95270638,  -8.13609349,   9.91652443,\n",
            "          9.6610316 ,  -5.52259708,   6.72577324,   4.8287148 ,\n",
            "         -3.47092993,  -8.34318613,   7.68360445]])}\n",
            "{'seed': 14, 'lambda1': 0.0001, 'weight': array([[368.95056095, 972.11541638,  30.28834959, 780.70236438,\n",
            "         94.67149788, 855.87404893, 988.47463229, 324.17754466,\n",
            "        349.07210324, 511.00375508, 649.03442198]])}\n",
            "{'seed': 14, 'lambda1': 0.001, 'weight': array([[368.99259812, 968.64292338,  32.0659547 , 788.71274125,\n",
            "         94.35527816, 856.49601895, 994.70206362, 321.67435019,\n",
            "        347.48140039, 508.0602182 , 644.09220421]])}\n",
            "{'seed': 14, 'lambda1': 0.01, 'weight': array([[369.03772828, 967.9626638 ,  31.86478451, 790.17999007,\n",
            "         84.07135717, 854.29976263, 987.78496033, 320.74455995,\n",
            "        350.96780448, 510.92263295, 648.38076429]])}\n",
            "{'seed': 14, 'lambda1': 0.1, 'weight': array([[368.98787874, 968.03323901,  31.84494707, 789.11257773,\n",
            "         98.86907625, 852.80128942, 987.03897842, 323.17696016,\n",
            "        346.60697317, 508.44315185, 651.12185149]])}\n",
            "{'seed': 14, 'lambda1': 1, 'weight': array([[369.05176214, 961.37719509,  22.48069545, 774.92636278,\n",
            "         81.41179119, 844.82624675, 977.88736923, 311.34725897,\n",
            "        335.98781865, 509.78504918, 638.4527994 ]])}\n",
            "{'seed': 14, 'lambda1': 10, 'weight': array([[ 3.68930040e+02,  8.72016823e+02, -1.58333017e-01,\n",
            "         6.90377644e+02, -3.82112380e-01,  7.62225680e+02,\n",
            "         8.87167049e+02,  2.21841479e+02,  2.48156508e+02,\n",
            "         4.07950541e+02,  5.52622081e+02]])}\n",
            "{'seed': 14, 'lambda1': 100, 'weight': array([[368.96985809,   8.96829988,  -2.80747423,  -7.61231044,\n",
            "         -8.65332152,  -6.17490465,   9.2809024 ,   4.45226852,\n",
            "          7.59201034,  -6.73952999,   6.32818919]])}\n"
          ]
        },
        {
          "output_type": "execute_result",
          "data": {
            "text/plain": [
              "<matplotlib.axes._subplots.AxesSubplot at 0x7f4bbd6dca60>"
            ]
          },
          "metadata": {},
          "execution_count": 38
        },
        {
          "output_type": "display_data",
          "data": {
            "text/plain": [
              "<Figure size 432x288 with 1 Axes>"
            ],
            "image/png": "[encoded data removed]"
          },
          "metadata": {
            "needs_background": "light"
          }
        }
      ]
    },
    {
      "cell_type": "markdown",
      "source": [
        "As the value of lambda increases, first NRMSE value increases and then decreases and here, we get the optimal value of lambda is 0.1 at which error is 0.413763385396936\n",
        "\n",
        "As λ increases(λ ≥ 100) the weights start becoming ≈0 ,The targets predicted ≈0 hence validation rmse saturates."
      ],
      "metadata": {
        "id": "RTIO-2ptEL4l"
      }
    },
    {
      "cell_type": "code",
      "source": [
        "l_graph = pd.read_csv(\"drive/My Drive/q_13_l.csv\")                          # load the file from drive\n",
        "# seaborn.boxplot(data = l_graph, x=\"Lambda1\", y=\"NRMSE\", hue=\"Type\")"
      ],
      "metadata": {
        "id": "CKuDm5e_hMi1"
      },
      "execution_count": null,
      "outputs": []
    },
    {
      "cell_type": "markdown",
      "source": [
        "m) Training and validation NRMSE for optimal lambda2 with noise variance"
      ],
      "metadata": {
        "id": "GzE9e39WhwKJ"
      }
    },
    {
      "cell_type": "code",
      "source": [
        "optimal_lb2 = 0.1\n",
        "num_of_samples = 1000                                                                                              # no. of samples\n",
        "feat_dimens = 10                                                                                                   # feature dimension\n",
        "noise_vari = [1,10,100,1000]\n",
        "dic_NRMSE = []                                                                                                     # initialize for NRMSE \n",
        "\n",
        "for seeed in range(0,15):\n",
        "  np.random.seed(seeed)                                                                                            # Generates pseudo-random number based on seed\n",
        "  for noiise in noise_vari:\n",
        "    w_target = np.random.randint(num_of_samples, size = (feat_dimens+1,1))                                         # weight vector for target value (fixed)\n",
        "    X1 = data_matrix(num_of_samples, feat_dimens)                                                                  # Data Matrix X\n",
        "    X1_training, X1_validation = X1[:int(0.7*num_of_samples)], X1[int(0.7*num_of_samples):]                        # split X into training and validation set\n",
        "    w_train, NRMSE_train = Gradient_Descent(X1_training, w, target_t(X1_training, w_target, noise(X1_training, mu, noiise)), 0.1, 500, 1e-6, optimal_lb2, 0)           # calculate training weight vector and MSE value from pseudoInverse\n",
        "\n",
        "    MSE_valid = MSE(X1_validation , w_train, target_t(X1_validation, w_target, noise(X1_validation, mu, noiise))) # find the value of validation MSE\n",
        "\n",
        "\n",
        "    t_train = target_t(X1_training, w_target, noise(X1_training, mu, std))                                        # training target vector t\n",
        "    t_valid = target_t(X1_validation, w_target, noise(X1_validation, mu, std))                                    # validation target vector t\n",
        "    NRMSE_valid = np.sqrt(MSE_valid)/np.std(t_valid)                                                              # It should be a single number. Vaildation_RMSE/std_dev(t)\n",
        "\n",
        "    dic_NRMSE.append({'seed': seeed, 'NRMSE': NRMSE_train, 'Noise variance': noiise, 'Type': \"Training Set\"})     # append the data of Training set of NRMSE\n",
        "    dic_NRMSE.append({'seed': seeed, 'NRMSE': NRMSE_valid, 'Noise variance': noiise, 'Type': \"Validation Set\"})   # append the data of Validation set of NRMSE\n",
        "   \n",
        "NRMSE_df_m = pd.DataFrame(dic_NRMSE)                                                                              # make dataframe\n",
        "NRMSE_df_m.to_csv(\"/content/drive/My Drive/q_13_m.csv\")                                                           # save the file into drive\n",
        "# print(NRMSE_df_m)\n",
        "seaborn.boxplot(data = NRMSE_df_m , x=\"Noise variance\", y=\"NRMSE\", hue=\"Type\")"
      ],
      "metadata": {
        "id": "8yaIgPVWhzex",
        "colab": {
          "base_uri": "https://localhost:8080/",
          "height": 300
        },
        "outputId": "2b8090a6-7700-48a6-c753-924f9d713571"
      },
      "execution_count": 37,
      "outputs": [
        {
          "output_type": "execute_result",
          "data": {
            "text/plain": [
              "<matplotlib.axes._subplots.AxesSubplot at 0x7f4bbe075ac0>"
            ]
          },
          "metadata": {},
          "execution_count": 37
        },
        {
          "output_type": "display_data",
          "data": {
            "text/plain": [
              "<Figure size 432x288 with 1 Axes>"
            ],
            "image/png": "[encoded data removed]"
          },
          "metadata": {
            "needs_background": "light"
          }
        }
      ]
    },
    {
      "cell_type": "markdown",
      "source": [
        "As noise variance increases at fixed optimal value of λ=0.1, error value first increases but at noise var = 1000, error has decreased."
      ],
      "metadata": {
        "id": "AyBWp1fLI2BF"
      }
    },
    {
      "cell_type": "code",
      "source": [
        "m_graph = pd.read_csv(\"drive/My Drive/q_13_m.csv\")                          # load the file from drive\n",
        "# seaborn.boxplot(data = m_graph, x=\"Noise variance\", y=\"NRMSE\", hue=\"Type\")"
      ],
      "metadata": {
        "id": "-yGv1XNUhz6q"
      },
      "execution_count": null,
      "outputs": []
    },
    {
      "cell_type": "markdown",
      "source": [
        "n) Training and validation NRMSE for optimal lambda1 with noise variance"
      ],
      "metadata": {
        "id": "RmF5kooLh087"
      }
    },
    {
      "cell_type": "code",
      "source": [
        "optimal_lb1 = 0.1\n",
        "num_of_samples = 1000                                                                                             # no. of samples\n",
        "feat_dimens = 10                                                                                                  # feature dimension\n",
        "noise_vari = [1,10,100,1000]\n",
        "dic_NRMSE = []                                                                                                    # initialize for NRMSE Q13 \n",
        "\n",
        "for seeed in range(0,15):\n",
        "  np.random.seed(seeed)                                                                                           # Generates pseudo-random number based on seed\n",
        "  for noiiise in noise_vari:\n",
        "    w_target = np.random.randint(num_of_samples, size = (feat_dimens+1,1))                                        # weight vector for target value (fixed)\n",
        "    X1 = data_matrix(num_of_samples, feat_dimens)                                                                 # Data Matrix X\n",
        "    X1_training, X1_validation = X1[:int(0.7*num_of_samples)], X1[int(0.7*num_of_samples):]                       # split X into training and validation set\n",
        "    w_train, NRMSE_train = Gradient_Descent(X1_training, w, target_t(X1_training, w_target, noise(X1_training, mu, noiiise)), 0.1, 500, 1e-6, 0, optimal_lb1)           # calculate training weight vector and MSE value from pseudoInverse\n",
        "\n",
        "    MSE_valid = MSE(X1_validation , w_train, target_t(X1_validation, w_target, noise(X1_validation, mu, noiiise))) # find the value of validation MSE\n",
        "\n",
        "\n",
        "    t_train = target_t(X1_training, w_target, noise(X1_training, mu, std))                                        # training target vector t\n",
        "    t_valid = target_t(X1_validation, w_target, noise(X1_validation, mu, std))                                    # validation target vector t\n",
        "    NRMSE_valid = np.sqrt(MSE_valid)/np.std(t_valid)                                                              # It should be a single number. Vaildation_RMSE/std_dev(t)\n",
        "\n",
        "    dic_NRMSE.append({'seed': seeed, 'NRMSE': NRMSE_train, 'Noise variance': noiiise, 'Type': \"Training Set\"})     # append the data of Training set of NRMSE\n",
        "    dic_NRMSE.append({'seed': seeed, 'NRMSE': NRMSE_valid, 'Noise variance': noiiise, 'Type': \"Validation Set\"})   # append the data of Validation set of NRMSE\n",
        "\n",
        "NRMSE_df_n = pd.DataFrame(dic_NRMSE)                                                                              # make dataframe\n",
        "NRMSE_df_n.to_csv(\"/content/drive/My Drive/q_13_n.csv\")                                                           # save the file into drive\n",
        "# print(NRMSE_df_n)\n",
        "seaborn.boxplot(data = NRMSE_df_n , x=\"Noise variance\", y=\"NRMSE\", hue=\"Type\")"
      ],
      "metadata": {
        "id": "G8TLYCaOh3oT",
        "colab": {
          "base_uri": "https://localhost:8080/",
          "height": 300
        },
        "outputId": "232ff12b-de0b-4b43-9c07-5aee35fd7e5e"
      },
      "execution_count": 39,
      "outputs": [
        {
          "output_type": "execute_result",
          "data": {
            "text/plain": [
              "<matplotlib.axes._subplots.AxesSubplot at 0x7f4bbd4a6ee0>"
            ]
          },
          "metadata": {},
          "execution_count": 39
        },
        {
          "output_type": "display_data",
          "data": {
            "text/plain": [
              "<Figure size 432x288 with 1 Axes>"
            ],
            "image/png": "[encoded data removed]"
          },
          "metadata": {
            "needs_background": "light"
          }
        }
      ]
    },
    {
      "cell_type": "markdown",
      "source": [
        "As noise variance increases at fixed optimal value of λ=0.1, error value first increases but at noise var = 1000, error has decreased."
      ],
      "metadata": {
        "id": "suD4k-tvO2Cy"
      }
    },
    {
      "cell_type": "code",
      "source": [
        "n_graph = pd.read_csv(\"drive/My Drive/q_13_n.csv\")                          # load the file from drive\n",
        "# seaborn.boxplot(data = n_graph, x=\"Noise variance\", y=\"NRMSE\", hue=\"Type\")"
      ],
      "metadata": {
        "id": "grEeiMVch4FK"
      },
      "execution_count": null,
      "outputs": []
    },
    {
      "cell_type": "markdown",
      "source": [
        "14. Write your overall learning points by doing entire assignment"
      ],
      "metadata": {
        "id": "MgUkfQpeyGVK"
      }
    },
    {
      "cell_type": "markdown",
      "source": [
        "# **Observation & Conclusion**\n",
        "(i) Pseudo Inverse Method-\n",
        "\n",
        "1. As the number of samples increases, the change in varation of NRMSE decreaes but median remains same.\n",
        "\n",
        "2. As the number of variables increases, NRMSE decreases.\n",
        "\n",
        "3. As the noise variance increases, NRMSE increases.\n",
        "\n",
        "4. NRMSE do not depend on bias w0, there is no pattern.\n",
        "\n",
        "5. As 1/λ increases Training RMSE decreases.\n",
        "\n",
        "6. Time taken to solve the pseudo Inverse is linearly dependent with number of samples.\n",
        "\n",
        "7. Time taken to solve the pseudo Inverse is somewhat linear with number of variables.\n",
        "\n",
        "(ii) Gradient Descent Method-\n",
        "\n",
        "1. The NRMSE value decreases as the max iteration increases.  \n",
        "\n",
        "2. As the eta value from 0.001 to 0.1, there is no change in NRMSE but from values 0.1 onward, NRMSE increases.\n",
        "\n",
        "3. Time taken to solve the Gradient Descent is linearly dependent with number of samples.\n",
        "\n",
        "4. Time taken to solve the Gradient Descent is somewhat linear with number of variables.\n",
        "\n",
        "5. As the lambda2 and lambda1 value increases, first error is increased then we get minimum error at λ=0.1 in both cases.\n",
        "\n",
        "6. The approximate optimal λ2=0.1 for which validation rmse is minimum which is 0.413894167316492\n",
        "\n",
        "7. The approximate optimal λ1=0.1 for which validation rmse is minimum which is 0.413763385396936\n",
        "\n",
        "8.  As the noise variance with optimal lambda2 and optimal lambda1 value increases, error also increases.\n",
        "\n",
        "<h3>final conclusion- PseudoInverse is the best in terms of nrmse loss.</h3>"
      ],
      "metadata": {
        "id": "fqSGVCZvyO73"
      }
    },
    {
      "cell_type": "markdown",
      "source": [],
      "metadata": {
        "id": "rzinoCMWIu4Q"
      }
    },
    {
      "cell_type": "markdown",
      "source": [
        "15. Quote your references, including roll numbers of fellow students with whom you discussed. Be specific about which part was\n",
        "inspired by what source or which friend."
      ],
      "metadata": {
        "id": "Mm5JCEJtFE3E"
      }
    },
    {
      "cell_type": "markdown",
      "source": [
        "1. I was discuss the logic and method of Task6, Task 13 with Athrava Warhade (190070012) but all the codes lines were written by myself individually.\n",
        "\n",
        "2. Take the help from below website for making boxplot and lineplot from seaborn library- https://seaborn.pydata.org/generated/seaborn.boxplot.html"
      ],
      "metadata": {
        "id": "-6H4mI0HGYyT"
      }
    },
    {
      "cell_type": "code",
      "source": [],
      "metadata": {
        "id": "Wjy3JlOAUxdm"
      },
      "execution_count": null,
      "outputs": []
    }
  ]
}